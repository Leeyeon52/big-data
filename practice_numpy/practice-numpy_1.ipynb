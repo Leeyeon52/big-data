{
 "cells": [
  {
   "cell_type": "markdown",
   "metadata": {},
   "source": [
    "# (실습) 넘파이 어레이"
   ]
  },
  {
   "cell_type": "markdown",
   "metadata": {},
   "source": [
    "**주의사항**\n",
    "\n",
    "- `None`은 적절한 표현식으로 대체한다.\n",
    "- `Pass`는 적절한 명령문으로 대체한다."
   ]
  },
  {
   "cell_type": "markdown",
   "metadata": {},
   "source": [
    "## numpy 모듈"
   ]
  },
  {
   "cell_type": "markdown",
   "metadata": {},
   "source": [
    "**문제 1**"
   ]
  },
  {
   "cell_type": "markdown",
   "metadata": {
    "id": "1Rk3MCirx-gA"
   },
   "source": [
    "아래 코드를 설명하라."
   ]
  },
  {
   "cell_type": "code",
   "execution_count": 2,
   "metadata": {
    "id": "J71Fcvihxzi9"
   },
   "outputs": [],
   "source": [
    "import numpy as np"
   ]
  },
  {
   "cell_type": "markdown",
   "metadata": {},
   "source": [
    "`코드설명`: 넘파이를 불러오는 함수"
   ]
  },
  {
   "cell_type": "markdown",
   "metadata": {},
   "source": [
    "아래 코드는 수정하지 마세요!!!"
   ]
  },
  {
   "cell_type": "code",
   "execution_count": 3,
   "metadata": {
    "colab": {
     "base_uri": "https://localhost:8080/"
    },
    "id": "pXMIfvi9yHG5",
    "outputId": "52689172-7c05-458a-a6a7-db854de1e5b7"
   },
   "outputs": [
    {
     "data": {
      "text/plain": [
       "'1.26.4'"
      ]
     },
     "execution_count": 3,
     "metadata": {},
     "output_type": "execute_result"
    }
   ],
   "source": [
    "np.__version__"
   ]
  },
  {
   "cell_type": "markdown",
   "metadata": {},
   "source": [
    "**문제 2**"
   ]
  },
  {
   "cell_type": "markdown",
   "metadata": {},
   "source": [
    "아래 코드의 기능을 설명하라"
   ]
  },
  {
   "cell_type": "code",
   "execution_count": 5,
   "metadata": {},
   "outputs": [],
   "source": [
    "np.random.seed(42)"
   ]
  },
  {
   "cell_type": "markdown",
   "metadata": {},
   "source": [
    "`코드설명`: 램던시디 42로 지정"
   ]
  },
  {
   "cell_type": "markdown",
   "metadata": {},
   "source": [
    "**문제 3**"
   ]
  },
  {
   "cell_type": "markdown",
   "metadata": {},
   "source": [
    "부동소수점으로 구성된 어레이의 항목은 기본적으로 소수점 이하 8자리까지 출력한다."
   ]
  },
  {
   "cell_type": "code",
   "execution_count": 9,
   "metadata": {},
   "outputs": [
    {
     "data": {
      "text/plain": [
       "array([[0.37454012, 0.95071431, 0.73199394, ..., 0.09767211, 0.68423303,\n",
       "        0.44015249],\n",
       "       [0.12203823, 0.49517691, 0.03438852, ..., 0.07404465, 0.35846573,\n",
       "        0.11586906],\n",
       "       [0.86310343, 0.62329813, 0.33089802, ..., 0.18657006, 0.892559  ,\n",
       "        0.53934224],\n",
       "       ...,\n",
       "       [0.81783422, 0.12020906, 0.5444891 , ..., 0.89803055, 0.2434823 ,\n",
       "        0.92703454],\n",
       "       [0.06026739, 0.93443603, 0.35162269, ..., 0.41102847, 0.8398613 ,\n",
       "        0.90002312],\n",
       "       [0.35342138, 0.23687056, 0.78052552, ..., 0.07941937, 0.08565825,\n",
       "        0.89419087]])"
      ]
     },
     "execution_count": 9,
     "metadata": {},
     "output_type": "execute_result"
    }
   ],
   "source": [
    "np.random.seed(42)\n",
    "Z = np.random.random((40,40))\n",
    "Z "
   ]
  },
  {
   "cell_type": "markdown",
   "metadata": {},
   "source": [
    "`np.set_printoptions()` 의 기능을 다음 두 개의 예를 이용하여 설명하라."
   ]
  },
  {
   "cell_type": "code",
   "execution_count": 10,
   "metadata": {},
   "outputs": [],
   "source": [
    "np.set_printoptions(precision=4)"
   ]
  },
  {
   "cell_type": "code",
   "execution_count": 11,
   "metadata": {},
   "outputs": [
    {
     "data": {
      "text/plain": [
       "array([[0.3745, 0.9507, 0.732 , ..., 0.0977, 0.6842, 0.4402],\n",
       "       [0.122 , 0.4952, 0.0344, ..., 0.074 , 0.3585, 0.1159],\n",
       "       [0.8631, 0.6233, 0.3309, ..., 0.1866, 0.8926, 0.5393],\n",
       "       ...,\n",
       "       [0.8178, 0.1202, 0.5445, ..., 0.898 , 0.2435, 0.927 ],\n",
       "       [0.0603, 0.9344, 0.3516, ..., 0.411 , 0.8399, 0.9   ],\n",
       "       [0.3534, 0.2369, 0.7805, ..., 0.0794, 0.0857, 0.8942]])"
      ]
     },
     "execution_count": 11,
     "metadata": {},
     "output_type": "execute_result"
    }
   ],
   "source": [
    "Z"
   ]
  },
  {
   "cell_type": "code",
   "execution_count": 12,
   "metadata": {},
   "outputs": [],
   "source": [
    "np.set_printoptions(precision=6)"
   ]
  },
  {
   "cell_type": "code",
   "execution_count": 13,
   "metadata": {},
   "outputs": [
    {
     "data": {
      "text/plain": [
       "array([[0.37454 , 0.950714, 0.731994, ..., 0.097672, 0.684233, 0.440152],\n",
       "       [0.122038, 0.495177, 0.034389, ..., 0.074045, 0.358466, 0.115869],\n",
       "       [0.863103, 0.623298, 0.330898, ..., 0.18657 , 0.892559, 0.539342],\n",
       "       ...,\n",
       "       [0.817834, 0.120209, 0.544489, ..., 0.898031, 0.243482, 0.927035],\n",
       "       [0.060267, 0.934436, 0.351623, ..., 0.411028, 0.839861, 0.900023],\n",
       "       [0.353421, 0.236871, 0.780526, ..., 0.079419, 0.085658, 0.894191]])"
      ]
     },
     "execution_count": 13,
     "metadata": {},
     "output_type": "execute_result"
    }
   ],
   "source": [
    "Z"
   ]
  },
  {
   "cell_type": "markdown",
   "metadata": {},
   "source": [
    "`코드설명`: 부동소수점 정밀도를 4로 지정해서 소수점 이하 4자리만 보여주고 \n",
    "        부동소수번 정밀도를 6으로 지정하여 소수점 이하 6자리만 보여줌"
   ]
  },
  {
   "cell_type": "markdown",
   "metadata": {},
   "source": [
    "아래 코드는 기본 옵션값으로 되돌린다. 수정하지 마세요."
   ]
  },
  {
   "cell_type": "code",
   "execution_count": 14,
   "metadata": {},
   "outputs": [],
   "source": [
    "np.set_printoptions(precision=8)"
   ]
  },
  {
   "cell_type": "markdown",
   "metadata": {},
   "source": [
    "## 1차원 어레이"
   ]
  },
  {
   "cell_type": "markdown",
   "metadata": {},
   "source": [
    "**문제 1**"
   ]
  },
  {
   "cell_type": "markdown",
   "metadata": {
    "id": "D52rYqifyYtK"
   },
   "source": [
    "크기가 10이고 모든 항목이 0인 1차원 어레이를\n",
    "변수 `Z`가 가리키도록 하라.\n",
    "단, `np.zeros()` 함수를 반드시 이용한다."
   ]
  },
  {
   "cell_type": "code",
   "execution_count": 15,
   "metadata": {
    "colab": {
     "base_uri": "https://localhost:8080/"
    },
    "id": "9a2qagIByT5-",
    "outputId": "589d76c7-cd60-42fc-a6a1-3ffd0fc10176"
   },
   "outputs": [],
   "source": [
    "Z = np.zeros(10)\n"
   ]
  },
  {
   "cell_type": "code",
   "execution_count": 17,
   "metadata": {},
   "outputs": [
    {
     "data": {
      "text/plain": [
       "array([0., 0., 0., 0., 0., 0., 0., 0., 0., 0.])"
      ]
     },
     "execution_count": 17,
     "metadata": {},
     "output_type": "execute_result"
    }
   ],
   "source": [
    "Z"
   ]
  },
  {
   "cell_type": "markdown",
   "metadata": {},
   "source": [
    "아래 코드는 수정하지 마세요!!!"
   ]
  },
  {
   "cell_type": "code",
   "execution_count": 16,
   "metadata": {},
   "outputs": [],
   "source": [
    "assert (Z == np.array([0., 0., 0., 0., 0., 0., 0., 0., 0., 0.])).all()"
   ]
  },
  {
   "cell_type": "markdown",
   "metadata": {},
   "source": [
    "**문제 2**"
   ]
  },
  {
   "cell_type": "markdown",
   "metadata": {
    "id": "Bly_H3ozyaSd"
   },
   "source": [
    "변수 `Z`가 10에서 49까지의 정수 중에서 짝수로만 구성된 1차원 어레이를 가리키도록 하라.\n",
    "단, `np.arange()` 함수를 반드시 이용한다."
   ]
  },
  {
   "cell_type": "code",
   "execution_count": 18,
   "metadata": {
    "colab": {
     "base_uri": "https://localhost:8080/"
    },
    "id": "0VkfsWyPKvcE",
    "outputId": "8f0595ac-90ff-4742-d964-1522e57d5061"
   },
   "outputs": [
    {
     "data": {
      "text/plain": [
       "array([10, 12, 14, 16, 18, 20, 22, 24, 26, 28, 30, 32, 34, 36, 38, 40, 42,\n",
       "       44, 46, 48])"
      ]
     },
     "execution_count": 18,
     "metadata": {},
     "output_type": "execute_result"
    }
   ],
   "source": [
    "Z = np.arange(10,50,2)\n",
    "Z"
   ]
  },
  {
   "cell_type": "markdown",
   "metadata": {},
   "source": [
    "아래 코드는 수정하지 마세요!!!"
   ]
  },
  {
   "cell_type": "code",
   "execution_count": null,
   "metadata": {},
   "outputs": [],
   "source": [
    "assert (Z == np.array([10, 12, 14, 16, 18, 20, 22, 24, 26, 28, 30, 32, 34, 36, 38, 40, 42,\n",
    "                        44, 46, 48])).all()"
   ]
  },
  {
   "cell_type": "markdown",
   "metadata": {},
   "source": [
    "**문제 3**"
   ]
  },
  {
   "cell_type": "markdown",
   "metadata": {},
   "source": [
    "변수 `Z`가 아래와 같이 선언되었다."
   ]
  },
  {
   "cell_type": "code",
   "execution_count": 19,
   "metadata": {},
   "outputs": [
    {
     "data": {
      "text/plain": [
       "array([2, 3, 1, 0, 4])"
      ]
     },
     "execution_count": 19,
     "metadata": {},
     "output_type": "execute_result"
    }
   ],
   "source": [
    "Z = np.array([2, 3, 1, 0, 4])\n",
    "Z"
   ]
  },
  {
   "cell_type": "markdown",
   "metadata": {},
   "source": [
    "변수 `Z`의 항목을 정렬하라.\n",
    "단, sort() 메서드를 활용한다."
   ]
  },
  {
   "cell_type": "code",
   "execution_count": 13,
   "metadata": {},
   "outputs": [],
   "source": [
    "import numpy as np\n",
    "\n",
    "Z = np.array([2, 3, 1, 0, 4])\n",
    "from numpy.testing import assert_array_equal\n",
    "assert_array_equal(np.sort(Z), np.arange(5))"
   ]
  },
  {
   "cell_type": "markdown",
   "metadata": {},
   "source": [
    "아래 코드는 수정하지 마세요!!!"
   ]
  },
  {
   "cell_type": "code",
   "execution_count": null,
   "metadata": {},
   "outputs": [],
   "source": [
    "assert (Z == np.arange(5)).all()"
   ]
  },
  {
   "cell_type": "markdown",
   "metadata": {},
   "source": [
    "**문제 4**"
   ]
  },
  {
   "cell_type": "markdown",
   "metadata": {},
   "source": [
    "변수 `Z`가 크기 30이며 무작위로 생성된 1차원 어레이를 가리키도록 하라.\n",
    "또한 포함된 항목들의 평균값을 계산하라.\n",
    "단, 어레이의 항목은 0과 1 사이의 임의의 부동소수점으로 구성되어야 한다.\n",
    "`np.random.random()` 함수, `mean()` 어레이 메서드를 반드시 이용한다."
   ]
  },
  {
   "cell_type": "code",
   "execution_count": 34,
   "metadata": {},
   "outputs": [
    {
     "name": "stdout",
     "output_type": "stream",
     "text": [
      "[0.96339443 0.56016818 0.93682246 0.05225788 0.41879332 0.26015779\n",
      " 0.73082096 0.98129709 0.25653006 0.6541746  0.19809763 0.56533025\n",
      " 0.46393249 0.97200533 0.60852727 0.34950637 0.11409578 0.15124683\n",
      " 0.22531693 0.25096666 0.85061606 0.56122279 0.52339091 0.11476887\n",
      " 0.86013969 0.7228143  0.06766836 0.7078351  0.54353822 0.08172535]\n"
     ]
    }
   ],
   "source": [
    "Z = np.random.random(30)   #0에서 29 난수 생성, 좌우를 균등하게 생성\n",
    "print(Z)\n",
    "Z_mean = Z.mean()"
   ]
  },
  {
   "cell_type": "markdown",
   "metadata": {},
   "source": [
    "아래 코드는 수정하지 마세요!!!"
   ]
  },
  {
   "cell_type": "code",
   "execution_count": 35,
   "metadata": {},
   "outputs": [
    {
     "name": "stdout",
     "output_type": "stream",
     "text": [
      "1차원 어레이 평균값: 0.4915720663306763\n"
     ]
    }
   ],
   "source": [
    "assert (Z.shape == (30,))\n",
    "print(f\"1차원 어레이 평균값: {Z_mean}\")"
   ]
  },
  {
   "cell_type": "markdown",
   "metadata": {},
   "source": [
    "**문제 5**"
   ]
  },
  {
   "cell_type": "markdown",
   "metadata": {
    "id": "pocSZJSY-y56"
   },
   "source": [
    "1차원 어레이가 다음과 같이 주어졌다."
   ]
  },
  {
   "cell_type": "code",
   "execution_count": 36,
   "metadata": {},
   "outputs": [],
   "source": [
    "Z = np.arange(1, 4)"
   ]
  },
  {
   "cell_type": "markdown",
   "metadata": {},
   "source": [
    "(1) 아래 표현식의 계산 결과를 설명하라."
   ]
  },
  {
   "cell_type": "code",
   "execution_count": 37,
   "metadata": {
    "id": "ZMAOCK-mZVbd"
   },
   "outputs": [
    {
     "data": {
      "text/plain": [
       "array([1, 4, 9])"
      ]
     },
     "execution_count": 37,
     "metadata": {},
     "output_type": "execute_result"
    }
   ],
   "source": [
    "Z*Z"
   ]
  },
  {
   "cell_type": "markdown",
   "metadata": {},
   "source": [
    "`코드설명`: arry([1,4,9])\n",
    "Z[0] * Z[0]= 1*1=1\n",
    "Z[1] * Z[1] = 2*2=4\n",
    "Z[2] * Z[2] = 3*3=9"
   ]
  },
  {
   "cell_type": "markdown",
   "metadata": {},
   "source": [
    "(2) 아래 표현식의 계산 결과를 설명하라."
   ]
  },
  {
   "cell_type": "code",
   "execution_count": 38,
   "metadata": {
    "id": "ZMAOCK-mZVbd"
   },
   "outputs": [
    {
     "data": {
      "text/plain": [
       "array([ 1,  4, 27])"
      ]
     },
     "execution_count": 38,
     "metadata": {},
     "output_type": "execute_result"
    }
   ],
   "source": [
    "Z**Z"
   ]
  },
  {
   "cell_type": "markdown",
   "metadata": {},
   "source": [
    "`코드설명`: arrt([1,4,27])\n",
    "Z[0]**Z[0] = 1**1 = 1\n",
    "Z[1]**Z[1] = 2**2 = 4\n",
    "Z[2]**Z[2] = 3**3 = 27"
   ]
  },
  {
   "cell_type": "markdown",
   "metadata": {},
   "source": [
    "(3) 아래 표현식의 계산 결과를 설명하라."
   ]
  },
  {
   "cell_type": "code",
   "execution_count": 39,
   "metadata": {
    "colab": {
     "base_uri": "https://localhost:8080/"
    },
    "id": "CJfJkqQ8ZhZI",
    "outputId": "fbee2806-2780-414e-b191-550df4648338"
   },
   "outputs": [
    {
     "data": {
      "text/plain": [
       "array([False, False, False])"
      ]
     },
     "execution_count": 39,
     "metadata": {},
     "output_type": "execute_result"
    }
   ],
   "source": [
    "Z < -Z"
   ]
  },
  {
   "cell_type": "markdown",
   "metadata": {},
   "source": [
    "`코드설명`: array([False, False, False])\n",
    "Z가 -Z보다 크기 떄문에 전부 False 가 나옴옴"
   ]
  },
  {
   "cell_type": "markdown",
   "metadata": {},
   "source": [
    "(4) 아래 표현식의 계산 결과를 설명하라."
   ]
  },
  {
   "cell_type": "code",
   "execution_count": 40,
   "metadata": {
    "colab": {
     "base_uri": "https://localhost:8080/"
    },
    "id": "wYc9wQ29ZoHt",
    "outputId": "3a5cf067-1451-4a2b-93df-d483e8ab99c5"
   },
   "outputs": [
    {
     "data": {
      "text/plain": [
       "array([1., 2., 3.])"
      ]
     },
     "execution_count": 40,
     "metadata": {},
     "output_type": "execute_result"
    }
   ],
   "source": [
    "Z/1/1"
   ]
  },
  {
   "cell_type": "markdown",
   "metadata": {},
   "source": [
    "`코드설명`: array([1., 2., 3.]) 나눗셈 2번 실행"
   ]
  },
  {
   "cell_type": "markdown",
   "metadata": {},
   "source": [
    "**문제 6**"
   ]
  },
  {
   "cell_type": "markdown",
   "metadata": {},
   "source": [
    "변수 `Z`가 아래 모양의 어레이를 가리키도록 하라.\n",
    "단, `np.linspace()` 함수와 `endpoint` 키워드 인자를 이용한다.\n",
    "\n",
    "```\n",
    "[0. , 0.1, 0.2, 0.3, 0.4, 0.5, 0.6, 0.7, 0.8, 0.9]\n",
    "```"
   ]
  },
  {
   "cell_type": "code",
   "execution_count": 47,
   "metadata": {},
   "outputs": [
    {
     "data": {
      "text/plain": [
       "array([0. , 0.1, 0.2, 0.3, 0.4, 0.5, 0.6, 0.7, 0.8, 0.9])"
      ]
     },
     "execution_count": 47,
     "metadata": {},
     "output_type": "execute_result"
    }
   ],
   "source": [
    "Z = np.linspace(0, 0.9, num=10, endpoint=True)\n",
    "Z"
   ]
  },
  {
   "cell_type": "markdown",
   "metadata": {},
   "source": [
    "아래 코드는 수정하지 마세요!!!"
   ]
  },
  {
   "cell_type": "code",
   "execution_count": null,
   "metadata": {},
   "outputs": [],
   "source": [
    "assert np.isclose(Z, np.array([0. , 0.1, 0.2, 0.3, 0.4, 0.5, 0.6, 0.7, 0.8, 0.9])).all()"
   ]
  },
  {
   "cell_type": "markdown",
   "metadata": {},
   "source": [
    "**문제 7**"
   ]
  },
  {
   "cell_type": "markdown",
   "metadata": {
    "lines_to_next_cell": 0
   },
   "source": [
    "아래 코드의 실행결과를 설명하라."
   ]
  },
  {
   "cell_type": "code",
   "execution_count": 49,
   "metadata": {},
   "outputs": [
    {
     "name": "stdout",
     "output_type": "stream",
     "text": [
      "[[0. 0. 0. 0. 0. 0. 0. 0. 0. 0.]\n",
      " [0. 0. 0. 0. 0. 0. 0. 0. 0. 0.]\n",
      " [0. 0. 0. 0. 0. 0. 0. 0. 0. 0.]\n",
      " [0. 0. 0. 0. 0. 0. 0. 0. 0. 0.]\n",
      " [0. 0. 0. 0. 0. 0. 0. 0. 0. 0.]\n",
      " [0. 0. 0. 0. 0. 0. 0. 0. 0. 0.]\n",
      " [0. 0. 0. 0. 0. 0. 0. 0. 0. 0.]\n",
      " [0. 0. 0. 0. 0. 0. 0. 0. 0. 0.]\n",
      " [0. 0. 0. 0. 0. 0. 0. 0. 0. 0.]\n",
      " [0. 0. 0. 0. 0. 0. 0. 0. 0. 0.]]\n",
      "800 bytes\n"
     ]
    }
   ],
   "source": [
    "Z = np.zeros((10,10))\n",
    "print(Z)\n",
    "print(\"%d bytes\" % (Z.size * Z.itemsize))"
   ]
  },
  {
   "cell_type": "markdown",
   "metadata": {},
   "source": [
    "`코드설명`: z = 100 z의 각 요소=8bytes 100*8 800 bytes   (flort64)\n"
   ]
  },
  {
   "cell_type": "markdown",
   "metadata": {},
   "source": [
    "**문제 8**"
   ]
  },
  {
   "cell_type": "markdown",
   "metadata": {},
   "source": [
    "다음 리스트에서 0이 아닌 항목들의 인덱스로 구성된 어레이를 한줄 코드로 생성하라. \n",
    "단. `np.nonzero()` 함수를 활용한다."
   ]
  },
  {
   "cell_type": "code",
   "execution_count": 50,
   "metadata": {},
   "outputs": [],
   "source": [
    "Z = [1, 2, 0, 0, 4, 0]"
   ]
  },
  {
   "cell_type": "code",
   "execution_count": 63,
   "metadata": {},
   "outputs": [],
   "source": [
    "non_zeros = np.nonzero(Z)\n"
   ]
  },
  {
   "cell_type": "markdown",
   "metadata": {},
   "source": [
    "아래 코드는 수정하지 마세요!!!"
   ]
  },
  {
   "cell_type": "code",
   "execution_count": 64,
   "metadata": {},
   "outputs": [],
   "source": [
    "assert (non_zeros == np.array([0, 1, 4])).all()"
   ]
  },
  {
   "cell_type": "markdown",
   "metadata": {},
   "source": [
    "**문제 9**"
   ]
  },
  {
   "cell_type": "markdown",
   "metadata": {},
   "source": [
    "두 개의 1차원 어레이가 다음과 같이 주어졌다."
   ]
  },
  {
   "cell_type": "code",
   "execution_count": 62,
   "metadata": {},
   "outputs": [],
   "source": [
    "A = np.ones(3)*1\n",
    "B = np.ones(3)*2"
   ]
  },
  {
   "cell_type": "markdown",
   "metadata": {},
   "source": [
    "아래 코드의 실행 결과를 설명하라."
   ]
  },
  {
   "cell_type": "code",
   "execution_count": 57,
   "metadata": {},
   "outputs": [
    {
     "data": {
      "text/plain": [
       "array([-1.5, -1.5, -1.5])"
      ]
     },
     "execution_count": 57,
     "metadata": {},
     "output_type": "execute_result"
    }
   ],
   "source": [
    "(A+B)*(-A/2)"
   ]
  },
  {
   "cell_type": "markdown",
   "metadata": {},
   "source": [
    "`코드설명`: \n",
    "A = 1,1,1\n",
    "B = 2,2,2\n",
    "(A+B)= 3,,3,3\n",
    "(-A/2)= -0.5,-0.5,-0.5\n",
    "(A+B)*(-A/2)=-1.5,-1.5,-1.5"
   ]
  },
  {
   "cell_type": "code",
   "execution_count": 58,
   "metadata": {},
   "outputs": [
    {
     "data": {
      "text/plain": [
       "array([3., 3., 3.])"
      ]
     },
     "execution_count": 58,
     "metadata": {},
     "output_type": "execute_result"
    }
   ],
   "source": [
    "np.add(A,B,out=B)"
   ]
  },
  {
   "cell_type": "markdown",
   "metadata": {},
   "source": [
    "`코드설명`: "
   ]
  },
  {
   "cell_type": "code",
   "execution_count": 59,
   "metadata": {},
   "outputs": [
    {
     "data": {
      "text/plain": [
       "array([0.5, 0.5, 0.5])"
      ]
     },
     "execution_count": 59,
     "metadata": {},
     "output_type": "execute_result"
    }
   ],
   "source": [
    "np.divide(A,2,out=A)"
   ]
  },
  {
   "cell_type": "markdown",
   "metadata": {},
   "source": [
    "`코드설명`:항목별 곱셈, 곱셈, 나눗셈 실행"
   ]
  },
  {
   "cell_type": "code",
   "execution_count": 60,
   "metadata": {},
   "outputs": [
    {
     "data": {
      "text/plain": [
       "array([-0.5, -0.5, -0.5])"
      ]
     },
     "execution_count": 60,
     "metadata": {},
     "output_type": "execute_result"
    }
   ],
   "source": [
    "np.negative(A,out=A)"
   ]
  },
  {
   "cell_type": "markdown",
   "metadata": {},
   "source": [
    "`코드설명`: A를 부정한결과를 다시A에 할당당"
   ]
  },
  {
   "cell_type": "code",
   "execution_count": 61,
   "metadata": {},
   "outputs": [
    {
     "data": {
      "text/plain": [
       "array([-1.5, -1.5, -1.5])"
      ]
     },
     "execution_count": 61,
     "metadata": {},
     "output_type": "execute_result"
    }
   ],
   "source": [
    "np.multiply(A,B,out=A)"
   ]
  },
  {
   "cell_type": "markdown",
   "metadata": {},
   "source": [
    "`코드설명`: A와 B를 항목별로 곱한 결과를 A에 할당 한다다"
   ]
  },
  {
   "cell_type": "markdown",
   "metadata": {},
   "source": [
    "## 2차원 어레이"
   ]
  },
  {
   "cell_type": "markdown",
   "metadata": {},
   "source": [
    "**문제 1**"
   ]
  },
  {
   "cell_type": "markdown",
   "metadata": {},
   "source": [
    "변수 `Z`가 (5, 5) 모양의 2차원 어레이를 가리키도록 하라.\n",
    "단, 어레이의 항목은 0과 1 사이의 임의의 부동소수점으로 구성되어야 한다.\n",
    "또한 `np.random.random()` 함수를 이용한다."
   ]
  },
  {
   "cell_type": "code",
   "execution_count": 65,
   "metadata": {},
   "outputs": [
    {
     "data": {
      "text/plain": [
       "array([[0.45830064, 0.48469629, 0.16577454, 0.94569815, 0.84997537],\n",
       "       [0.66902234, 0.46229556, 0.41176554, 0.65097347, 0.54543187],\n",
       "       [0.06227311, 0.51250265, 0.80640362, 0.45923988, 0.05195658],\n",
       "       [0.7862782 , 0.20136378, 0.25862083, 0.16470635, 0.33021506],\n",
       "       [0.75675151, 0.51938586, 0.20488127, 0.87783008, 0.87958185]])"
      ]
     },
     "execution_count": 65,
     "metadata": {},
     "output_type": "execute_result"
    }
   ],
   "source": [
    "Z = np.random.random((5, 5))\n",
    "Z"
   ]
  },
  {
   "cell_type": "markdown",
   "metadata": {},
   "source": [
    "아래 코드는 수정하지 마세요!!!"
   ]
  },
  {
   "cell_type": "code",
   "execution_count": null,
   "metadata": {},
   "outputs": [],
   "source": [
    "assert (Z.shape == (5, 5))\n",
    "assert (Z.dtype == np.float64)"
   ]
  },
  {
   "cell_type": "markdown",
   "metadata": {},
   "source": [
    "**문제 2**"
   ]
  },
  {
   "cell_type": "markdown",
   "metadata": {
    "id": "K3IRP0_yzg5h"
   },
   "source": [
    "변수 `Z`가 0에서 8까지의 정수로 이루어진 (3, 3) 모양의 2차원 어레이를 가리키도록 하라.\n",
    "단, `np.arange()` 함수와 `reshape()` 어레이 메서드를 반드시 이용한다."
   ]
  },
  {
   "cell_type": "code",
   "execution_count": 66,
   "metadata": {
    "colab": {
     "base_uri": "https://localhost:8080/"
    },
    "id": "3TnVoMehK1vg",
    "outputId": "0f3168c7-72c4-4ee9-cac1-67d6c3cbfed7"
   },
   "outputs": [
    {
     "data": {
      "text/plain": [
       "array([[0, 1, 2],\n",
       "       [3, 4, 5],\n",
       "       [6, 7, 8]])"
      ]
     },
     "execution_count": 66,
     "metadata": {},
     "output_type": "execute_result"
    }
   ],
   "source": [
    "Z = np.arange(9).reshape((3,3))\n",
    "Z"
   ]
  },
  {
   "cell_type": "markdown",
   "metadata": {},
   "source": [
    "아래 코드는 수정하지 마세요!!!"
   ]
  },
  {
   "cell_type": "code",
   "execution_count": null,
   "metadata": {},
   "outputs": [],
   "source": [
    "assert (Z == np.array([[0, 1, 2],\n",
    "                       [3, 4, 5],\n",
    "                       [6, 7, 8]])).all()"
   ]
  },
  {
   "cell_type": "markdown",
   "metadata": {},
   "source": [
    "**문제 3**"
   ]
  },
  {
   "cell_type": "markdown",
   "metadata": {},
   "source": [
    "변수 `Z`가 (3, 3) 모양의 2차원 어레이를 가리키도록 하라.\n",
    "단, 2차원 어레이의 대각선 상은 1이고 나머지는 0이어야 한다.\n",
    "또한 `np.eye()` 함수를 반드시 이용한다."
   ]
  },
  {
   "cell_type": "code",
   "execution_count": 67,
   "metadata": {
    "colab": {
     "base_uri": "https://localhost:8080/"
    },
    "id": "hF_WIcFkLDEM",
    "outputId": "9e40eb70-bab8-4fc2-8bcb-c5893568da8b"
   },
   "outputs": [
    {
     "data": {
      "text/plain": [
       "array([[1., 0., 0.],\n",
       "       [0., 1., 0.],\n",
       "       [0., 0., 1.]])"
      ]
     },
     "execution_count": 67,
     "metadata": {},
     "output_type": "execute_result"
    }
   ],
   "source": [
    "Z = np.eye(3)\n",
    "Z"
   ]
  },
  {
   "cell_type": "markdown",
   "metadata": {},
   "source": [
    "아래 코드는 수정하지 마세요!!!"
   ]
  },
  {
   "cell_type": "code",
   "execution_count": null,
   "metadata": {},
   "outputs": [],
   "source": [
    "assert (Z == np.array([[1., 0., 0.],\n",
    "                       [0., 1., 0.],\n",
    "                       [0., 0., 1.]])).all"
   ]
  },
  {
   "cell_type": "markdown",
   "metadata": {},
   "source": [
    "**문제 4**"
   ]
  },
  {
   "cell_type": "markdown",
   "metadata": {},
   "source": [
    "변수 `Z`가 아래와 같은 (5,5) 모양의 2차원 어레이를 가리키도록 하라.\n",
    "단, `np.arange()` 함수와 `np.diag()` 함수의 `k` 키워드 인자를 반드시 활용한다.\n",
    "\n",
    "```\n",
    "[[0 0 0 0 0]\n",
    " [1 0 0 0 0]\n",
    " [0 2 0 0 0]\n",
    " [0 0 3 0 0]\n",
    " [0 0 0 4 0]]\n",
    "```"
   ]
  },
  {
   "cell_type": "code",
   "execution_count": 68,
   "metadata": {
    "colab": {
     "base_uri": "https://localhost:8080/"
    },
    "id": "yqe6rLXMMbiN",
    "outputId": "e17e9a66-45a8-4b7b-8c3f-d4ecb42f7f8f"
   },
   "outputs": [],
   "source": [
    "Z = np.diag(1+np.arange(4),k=1)"
   ]
  },
  {
   "cell_type": "markdown",
   "metadata": {},
   "source": [
    "아래 코드는 수정하지 마세요!!!"
   ]
  },
  {
   "cell_type": "code",
   "execution_count": null,
   "metadata": {},
   "outputs": [],
   "source": [
    "assert (Z == np.array([[0, 0, 0, 0, 0],\n",
    "                        [1, 0, 0, 0, 0],\n",
    "                        [0, 2, 0, 0, 0],\n",
    "                        [0, 0, 3, 0, 0],\n",
    "                        [0, 0, 0, 4, 0]])).all()"
   ]
  },
  {
   "cell_type": "markdown",
   "metadata": {},
   "source": [
    "**문제 5**"
   ]
  },
  {
   "cell_type": "markdown",
   "metadata": {},
   "source": [
    "변수 `Z`가 아래와 같은 (5, 5) 모양의 2차원 어레이를 가리키도록 하라.\n",
    "단, `np.zeros()` 함수, `np.arange()` 함수, 2차원 어레이 덧셈을 이용한다.\n",
    "\n",
    "```\n",
    "[[0. 1. 2. 3. 4.]\n",
    " [0. 1. 2. 3. 4.]\n",
    " [0. 1. 2. 3. 4.]\n",
    " [0. 1. 2. 3. 4.]\n",
    " [0. 1. 2. 3. 4.]]\n",
    "```"
   ]
  },
  {
   "cell_type": "code",
   "execution_count": 76,
   "metadata": {
    "colab": {
     "base_uri": "https://localhost:8080/"
    },
    "id": "1eXRQS31czdk",
    "outputId": "93678b1c-4ce6-48df-ea94-2912b7dad370"
   },
   "outputs": [
    {
     "data": {
      "text/plain": [
       "array([[0., 0., 0., 0., 0.],\n",
       "       [0., 0., 0., 0., 0.],\n",
       "       [0., 0., 0., 0., 0.],\n",
       "       [0., 0., 0., 0., 0.],\n",
       "       [0., 0., 0., 0., 0.]])"
      ]
     },
     "execution_count": 76,
     "metadata": {},
     "output_type": "execute_result"
    }
   ],
   "source": [
    "# None을 적절한 표현식으로 대체하라.\n",
    "Z = np.zeros([5,5]) * np.arange(5)\n",
    "Z"
   ]
  },
  {
   "cell_type": "markdown",
   "metadata": {},
   "source": [
    "아래 코드는 수정하지 마세요!!!"
   ]
  },
  {
   "cell_type": "code",
   "execution_count": null,
   "metadata": {},
   "outputs": [],
   "source": [
    "assert (Z == np.array([[0., 1., 2., 3., 4.],\n",
    "                        [0., 1., 2., 3., 4.],\n",
    "                        [0., 1., 2., 3., 4.],\n",
    "                        [0., 1., 2., 3., 4.],\n",
    "                        [0., 1., 2., 3., 4.]])).all()"
   ]
  },
  {
   "cell_type": "markdown",
   "metadata": {},
   "source": [
    "**문제 6**"
   ]
  },
  {
   "cell_type": "markdown",
   "metadata": {},
   "source": [
    "아래 3x3 단위 행렬에 해당하는 2차원 어레이를 한줄 코드로 생성하라.\n",
    "단, `np.eye()` 함수를 이용한다.\n",
    "\n",
    "```\n",
    "[[1. 0. 0.]\n",
    " [0. 1. 0.]\n",
    " [0. 0. 1.]]\n",
    "```"
   ]
  },
  {
   "cell_type": "code",
   "execution_count": 81,
   "metadata": {},
   "outputs": [
    {
     "data": {
      "text/plain": [
       "array([[1., 0., 0.],\n",
       "       [0., 1., 0.],\n",
       "       [0., 0., 1.]])"
      ]
     },
     "execution_count": 81,
     "metadata": {},
     "output_type": "execute_result"
    }
   ],
   "source": [
    "# None을 적절한 표현식으로 대체하라.\n",
    "Z = np.eye(3)\n",
    "Z"
   ]
  },
  {
   "cell_type": "markdown",
   "metadata": {},
   "source": [
    "아래 코드는 수정하지 마세요!!!"
   ]
  },
  {
   "cell_type": "code",
   "execution_count": null,
   "metadata": {},
   "outputs": [],
   "source": [
    "assert (Z == np.array([[1., 0., 0.],\n",
    "                       [0., 1., 0.],\n",
    "                       [0., 0., 1.]])).all()"
   ]
  },
  {
   "cell_type": "markdown",
   "metadata": {},
   "source": [
    "**문제 7**"
   ]
  },
  {
   "cell_type": "markdown",
   "metadata": {},
   "source": [
    "무작위 수로 구성된 (5, 5) 모양의 2차원 어레이가 다음과 같다."
   ]
  },
  {
   "cell_type": "code",
   "execution_count": 83,
   "metadata": {},
   "outputs": [],
   "source": [
    "Z = np.random.random((5, 5))"
   ]
  },
  {
   "cell_type": "markdown",
   "metadata": {},
   "source": [
    "변수 `Z`가 가리키는 2차원 어레이에 대해 min-max 크기조정(정규화)을 적용하라.\n",
    "\n",
    "min-max 크기조정(정규화)은 항목의 모든 값을 아래 식을 통해 0과 1 사이의 부동소수점으로 변환한다. $max$와 $min$은 각각 최대 항목과 최소 항목을 가리킨다.\n",
    "\n",
    "$$\n",
    "\\frac{x-min}{max - min}\n",
    "$$"
   ]
  },
  {
   "cell_type": "code",
   "execution_count": 84,
   "metadata": {},
   "outputs": [
    {
     "data": {
      "text/plain": [
       "array([[0.92336586, 0.49915801, 0.0827081 , 0.67999511, 0.78809774],\n",
       "       [0.25903355, 0.85906668, 0.91343209, 0.21477956, 0.9993462 ],\n",
       "       [0.06356263, 0.13162947, 0.11187606, 0.89993784, 0.63379876],\n",
       "       [0.07621216, 0.39622587, 0.5905026 , 0.        , 0.8870878 ],\n",
       "       [0.79958082, 0.46826675, 0.98114276, 0.37117448, 1.        ]])"
      ]
     },
     "execution_count": 84,
     "metadata": {},
     "output_type": "execute_result"
    }
   ],
   "source": [
    "# None을 적절한 표현식으로 대체하라.\n",
    "# 대원칙: 인공지능은 학습전에 데이터가 정규화/표준화 되어있어야 한다다\n",
    "Z = (Z - Z.min()) / (Z.max() - Z.min())\n",
    "Z"
   ]
  },
  {
   "cell_type": "markdown",
   "metadata": {},
   "source": [
    "아래 코드는 수정하지 마세요!!!"
   ]
  },
  {
   "cell_type": "code",
   "execution_count": 73,
   "metadata": {},
   "outputs": [],
   "source": [
    "assert (Z.max() == 1 and Z.min() == 0)"
   ]
  },
  {
   "cell_type": "markdown",
   "metadata": {},
   "source": [
    "## 3차원 어레이"
   ]
  },
  {
   "cell_type": "markdown",
   "metadata": {},
   "source": [
    "**문제 1**"
   ]
  },
  {
   "cell_type": "markdown",
   "metadata": {},
   "source": [
    "(1) 변수 `Z`가 (3, 3, 3) 모양의 3차원 어레이를 가리키도록 하라.\n",
    "단, 어레이의 항목은 0과 1 사이의 임의의 부동소수점으로 구성되어야 한다.\n",
    "또한 `np.random.random()` 함수를 이용한다."
   ]
  },
  {
   "cell_type": "code",
   "execution_count": 86,
   "metadata": {
    "colab": {
     "base_uri": "https://localhost:8080/"
    },
    "id": "v-K8hejPLP11",
    "outputId": "ee6f9246-a41f-4fce-919d-3abed55ad592"
   },
   "outputs": [
    {
     "data": {
      "text/plain": [
       "array([[[0.71201402, 0.82597821, 0.10063748],\n",
       "        [0.23987411, 0.14197199, 0.34794141],\n",
       "        [0.45035098, 0.74882634, 0.65114758]],\n",
       "\n",
       "       [[0.62092857, 0.35237495, 0.84144755],\n",
       "        [0.47128717, 0.97910494, 0.63414214],\n",
       "        [0.12626474, 0.67617756, 0.32510402]],\n",
       "\n",
       "       [[0.6863272 , 0.06964115, 0.17488144],\n",
       "        [0.85573726, 0.22717956, 0.83704113],\n",
       "        [0.27927609, 0.64288191, 0.69415057]]])"
      ]
     },
     "execution_count": 86,
     "metadata": {},
     "output_type": "execute_result"
    }
   ],
   "source": [
    "# None을 적절한 표현식으로 대체하라.\n",
    "Z = np.random.random((3,3,3))\n",
    "Z"
   ]
  },
  {
   "cell_type": "markdown",
   "metadata": {},
   "source": [
    "아래 코드는 수정하지 마세요!!!"
   ]
  },
  {
   "cell_type": "code",
   "execution_count": null,
   "metadata": {},
   "outputs": [],
   "source": [
    "assert (Z.shape == (3, 3, 3))\n",
    "assert (Z.dtype == 'f8')"
   ]
  },
  {
   "cell_type": "markdown",
   "metadata": {},
   "source": [
    "(2) `Z`에 포함된 항목들 중에서 최댓값과 최솟값의 차이를 구하라.\n",
    "단, `maximum`, `mininum` 두 변수가 각각 최댓값과 최솟값을 가리키도록 하며,\n",
    "`max()`와 `min()` 어레이 메서드를 이용한다."
   ]
  },
  {
   "cell_type": "code",
   "execution_count": null,
   "metadata": {},
   "outputs": [],
   "source": [
    "# None을 적절한 표현식으로 대체하라.\n",
    "maximum = Z.max()\n",
    "minimum = Z.min()"
   ]
  },
  {
   "cell_type": "markdown",
   "metadata": {},
   "source": [
    "아래 코드는 수정하지 마세요!!!"
   ]
  },
  {
   "cell_type": "code",
   "execution_count": null,
   "metadata": {},
   "outputs": [],
   "source": [
    "print(f\"최댓값과 최솟값의 차이: {maximum - minimum}\")"
   ]
  },
  {
   "cell_type": "markdown",
   "metadata": {},
   "source": [
    "## `dtype` 종류 "
   ]
  },
  {
   "cell_type": "markdown",
   "metadata": {},
   "source": [
    "**문제 1**"
   ]
  },
  {
   "cell_type": "markdown",
   "metadata": {},
   "source": [
    "아래 두 코드의 실행결과를 설명하라."
   ]
  },
  {
   "cell_type": "code",
   "execution_count": 87,
   "metadata": {},
   "outputs": [
    {
     "name": "stdout",
     "output_type": "stream",
     "text": [
      "-128\n",
      "127\n",
      "-2147483648\n",
      "2147483647\n",
      "-9223372036854775808\n",
      "9223372036854775807\n"
     ]
    }
   ],
   "source": [
    "for dtype in [np.int8, np.int32, np.int64]:\n",
    "    print(np.iinfo(dtype).min)\n",
    "    print(np.iinfo(dtype).max)"
   ]
  },
  {
   "cell_type": "markdown",
   "metadata": {},
   "source": [
    "`코드설명`: 정수형 자료형에 허용되는 비트 수에 따른 최소값과 최대값값"
   ]
  },
  {
   "cell_type": "code",
   "execution_count": 88,
   "metadata": {},
   "outputs": [
    {
     "name": "stdout",
     "output_type": "stream",
     "text": [
      "-3.4028235e+38\n",
      "3.4028235e+38\n",
      "1.1920929e-07\n",
      "-1.7976931348623157e+308\n",
      "1.7976931348623157e+308\n",
      "2.220446049250313e-16\n"
     ]
    }
   ],
   "source": [
    "for dtype in [np.float32, np.float64]:\n",
    "    print(np.finfo(dtype).min)\n",
    "    print(np.finfo(dtype).max)\n",
    "    print(np.finfo(dtype).eps)"
   ]
  },
  {
   "cell_type": "markdown",
   "metadata": {},
   "source": [
    "`코드설명`: 부동소수점 자료형에 허용되는 비트수에 따른 최소값과 최대값값"
   ]
  },
  {
   "cell_type": "markdown",
   "metadata": {},
   "source": [
    "**문제 2**"
   ]
  },
  {
   "cell_type": "markdown",
   "metadata": {},
   "source": [
    "부동소수점으로 구성된 1차원 어레이가 아래와 같이 주어졌다."
   ]
  },
  {
   "cell_type": "code",
   "execution_count": 106,
   "metadata": {},
   "outputs": [],
   "source": [
    "Z = (np.random.rand(10)*100).astype(np.float32)"
   ]
  },
  {
   "cell_type": "markdown",
   "metadata": {},
   "source": [
    "변수 `Y`가 변수 `Z`가 가리키는 1차원 어레이의 dtype이 `int32`로 형변환된 1차원 어레이를 가리키도록 하라.\n",
    "단, `astype()` 메서드를 이용한다."
   ]
  },
  {
   "cell_type": "code",
   "execution_count": 108,
   "metadata": {},
   "outputs": [
    {
     "data": {
      "text/plain": [
       "array([91, 75, 80,  1, 96, 72, 30, 82, 28, 87])"
      ]
     },
     "execution_count": 108,
     "metadata": {},
     "output_type": "execute_result"
    }
   ],
   "source": [
    "# None을 적절한 표현식으로 대체하라.\n",
    "Y = Z.astype(np.int32)\n",
    "Y"
   ]
  },
  {
   "cell_type": "markdown",
   "metadata": {},
   "source": [
    "아래 코드는 수정하지 마세요!!!"
   ]
  },
  {
   "cell_type": "code",
   "execution_count": 97,
   "metadata": {},
   "outputs": [],
   "source": [
    "assert (Y.shape == (10,))\n",
    "assert (Y.dtype == np.int32)"
   ]
  },
  {
   "cell_type": "markdown",
   "metadata": {},
   "source": [
    "**문제 3**"
   ]
  },
  {
   "cell_type": "markdown",
   "metadata": {},
   "source": [
    "변수 `Z`가 아래와 같이 무작위로 생성된 길이가 10인 1차원 어레이를 가리킨다."
   ]
  },
  {
   "cell_type": "code",
   "execution_count": 110,
   "metadata": {},
   "outputs": [
    {
     "data": {
      "text/plain": [
       "array([2.99919112, 7.43193199, 0.48142836, 9.02894995, 8.52263874,\n",
       "       6.67804683, 5.9322157 , 8.92302498, 1.8533018 , 0.78969162])"
      ]
     },
     "execution_count": 110,
     "metadata": {},
     "output_type": "execute_result"
    }
   ],
   "source": [
    "Z = np.random.uniform(0,10,10)\n",
    "Z"
   ]
  },
  {
   "cell_type": "markdown",
   "metadata": {},
   "source": [
    "(1) 나머지 연산자(`%`)를 이용하여 정수로만 구성된 어레이 `Y`를 생성하라. "
   ]
  },
  {
   "cell_type": "code",
   "execution_count": 111,
   "metadata": {},
   "outputs": [
    {
     "data": {
      "text/plain": [
       "array([2., 7., 0., 9., 8., 6., 5., 8., 1., 0.])"
      ]
     },
     "execution_count": 111,
     "metadata": {},
     "output_type": "execute_result"
    }
   ],
   "source": [
    "# None을 적절한 표현식으로 대체하라.\n",
    "Y = Z - Z%1\n",
    "Y"
   ]
  },
  {
   "cell_type": "markdown",
   "metadata": {},
   "source": [
    "아래 코드는 수정하지 마세요!!!"
   ]
  },
  {
   "cell_type": "code",
   "execution_count": 99,
   "metadata": {},
   "outputs": [],
   "source": [
    "assert (Y == Z.astype(np.int32)).all()"
   ]
  },
  {
   "cell_type": "markdown",
   "metadata": {},
   "source": [
    "(2) 몫 연산자(`//`)를 이용하여 정수로만 구성된 어레이 `Y`를 생성하라."
   ]
  },
  {
   "cell_type": "code",
   "execution_count": 100,
   "metadata": {},
   "outputs": [],
   "source": [
    "# None을 적절한 표현식으로 대체하라.\n",
    "Y = Z // 1"
   ]
  },
  {
   "cell_type": "markdown",
   "metadata": {},
   "source": [
    "아래 코드는 수정하지 마세요!!!"
   ]
  },
  {
   "cell_type": "code",
   "execution_count": null,
   "metadata": {},
   "outputs": [],
   "source": [
    "assert (Y == Z.astype(np.int32)).all()"
   ]
  },
  {
   "cell_type": "markdown",
   "metadata": {},
   "source": [
    "(3) 내림 함수 `np.floor()` 함수를 이용하여 정수로만 구성된 어레이 `Y`를 생성하라. "
   ]
  },
  {
   "cell_type": "code",
   "execution_count": 101,
   "metadata": {},
   "outputs": [],
   "source": [
    "# None을 적절한 표현식으로 대체하라.\n",
    "Y = np.floor(Z)"
   ]
  },
  {
   "cell_type": "markdown",
   "metadata": {},
   "source": [
    "아래 코드는 수정하지 마세요!!!"
   ]
  },
  {
   "cell_type": "code",
   "execution_count": 104,
   "metadata": {},
   "outputs": [],
   "source": [
    "assert (Y == Z.astype(np.int32)).all()"
   ]
  },
  {
   "cell_type": "markdown",
   "metadata": {},
   "source": [
    "(4) `np.trunc()` 함수를 이용하여 정수로만 구성된 어레이 `Y`를 생성하라. "
   ]
  },
  {
   "cell_type": "code",
   "execution_count": 102,
   "metadata": {},
   "outputs": [],
   "source": [
    "# None을 적절한 표현식으로 대체하라.\n",
    "Y = np.trunc(Z)"
   ]
  },
  {
   "cell_type": "markdown",
   "metadata": {},
   "source": [
    "아래 코드는 수정하지 마세요!!!"
   ]
  },
  {
   "cell_type": "code",
   "execution_count": 103,
   "metadata": {},
   "outputs": [],
   "source": [
    "assert (Y == Z.astype(np.int32)).all()"
   ]
  }
 ],
 "metadata": {
  "colab": {
   "provenance": []
  },
  "kernelspec": {
   "display_name": "base",
   "language": "python",
   "name": "python3"
  },
  "language_info": {
   "codemirror_mode": {
    "name": "ipython",
    "version": 3
   },
   "file_extension": ".py",
   "mimetype": "text/x-python",
   "name": "python",
   "nbconvert_exporter": "python",
   "pygments_lexer": "ipython3",
   "version": "3.12.7"
  }
 },
 "nbformat": 4,
 "nbformat_minor": 1
}
