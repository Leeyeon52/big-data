{
  "cells": [
    {
      "cell_type": "markdown",
      "id": "4ba112a7",
      "metadata": {
        "id": "4ba112a7"
      },
      "source": [
        "# (실습) 통계 기초"
      ]
    },
    {
      "cell_type": "markdown",
      "id": "9bf97162",
      "metadata": {
        "id": "9bf97162"
      },
      "source": [
        "**참고**"
      ]
    },
    {
      "cell_type": "markdown",
      "id": "0889b335",
      "metadata": {
        "id": "0889b335"
      },
      "source": [
        "[통계 기초](https://codingalzi.github.io/datapy/from_scratch_2.html)에\n",
        "정의된 다음 함수들을 활용할 수 있다.\n",
        "\n",
        "- mean\n",
        "- median\n",
        "- quantile\n",
        "- mode\n",
        "- data_range\n",
        "- iqr\n",
        "- var\n",
        "- std\n",
        "- cov\n",
        "- corrcoef"
      ]
    },
    {
      "cell_type": "markdown",
      "id": "95d60690",
      "metadata": {
        "id": "95d60690"
      },
      "source": [
        "**필수 모듈**"
      ]
    },
    {
      "cell_type": "markdown",
      "id": "0a656de8",
      "metadata": {
        "id": "0a656de8"
      },
      "source": [
        "`matplotlib.pyplot`은 막대그래프, 히스토그램, 산점도 등 데이터를 그래프로 시각화할 때 필요한\n",
        "다양한 함수를 제공하는 모듈이다."
      ]
    },
    {
      "cell_type": "code",
      "execution_count": 83,
      "id": "f5458c79",
      "metadata": {
        "id": "f5458c79"
      },
      "outputs": [],
      "source": [
        "import matplotlib.pyplot as plt\n",
        "\n",
        "# 그래프 설정\n",
        "plt.rc('figure', figsize=(10, 6))  # 그래프 크기 지정"
      ]
    },
    {
      "cell_type": "code",
      "execution_count": 84,
      "id": "ff6eed7c",
      "metadata": {
        "id": "ff6eed7c"
      },
      "outputs": [
        {
          "ename": "FileNotFoundError",
          "evalue": "[Errno 2] No such file or directory: 'C:\\\\Windows\\\\Fonts\\\\NGULIM.TTF'",
          "output_type": "error",
          "traceback": [
            "\u001b[1;31m---------------------------------------------------------------------------\u001b[0m",
            "\u001b[1;31mFileNotFoundError\u001b[0m                         Traceback (most recent call last)",
            "Cell \u001b[1;32mIn[84], line 7\u001b[0m\n\u001b[0;32m      5\u001b[0m \u001b[38;5;28;01mif\u001b[39;00m platform\u001b[38;5;241m.\u001b[39msystem() \u001b[38;5;241m==\u001b[39m \u001b[38;5;124m'\u001b[39m\u001b[38;5;124mWindows\u001b[39m\u001b[38;5;124m'\u001b[39m:\n\u001b[0;32m      6\u001b[0m     font_path \u001b[38;5;241m=\u001b[39m \u001b[38;5;124m\"\u001b[39m\u001b[38;5;124mC:/Windows/Fonts/NGULIM.TTF\u001b[39m\u001b[38;5;124m\"\u001b[39m\n\u001b[1;32m----> 7\u001b[0m     font \u001b[38;5;241m=\u001b[39m mpl\u001b[38;5;241m.\u001b[39mfont_manager\u001b[38;5;241m.\u001b[39mFontProperties(fname\u001b[38;5;241m=\u001b[39mfont_path)\u001b[38;5;241m.\u001b[39mget_name()\n\u001b[0;32m      8\u001b[0m     plt\u001b[38;5;241m.\u001b[39mrc(\u001b[38;5;124m'\u001b[39m\u001b[38;5;124mfont\u001b[39m\u001b[38;5;124m'\u001b[39m, family\u001b[38;5;241m=\u001b[39mfont)\n\u001b[0;32m      9\u001b[0m \u001b[38;5;66;03m# 우분투/구글 코랩 설정\u001b[39;00m\n",
            "File \u001b[1;32mc:\\Users\\302-15\\anaconda3\\Lib\\site-packages\\matplotlib\\font_manager.py:676\u001b[0m, in \u001b[0;36mFontProperties.get_name\u001b[1;34m(self)\u001b[0m\n\u001b[0;32m    672\u001b[0m \u001b[38;5;28;01mdef\u001b[39;00m \u001b[38;5;21mget_name\u001b[39m(\u001b[38;5;28mself\u001b[39m):\n\u001b[0;32m    673\u001b[0m \u001b[38;5;250m    \u001b[39m\u001b[38;5;124;03m\"\"\"\u001b[39;00m\n\u001b[0;32m    674\u001b[0m \u001b[38;5;124;03m    Return the name of the font that best matches the font properties.\u001b[39;00m\n\u001b[0;32m    675\u001b[0m \u001b[38;5;124;03m    \"\"\"\u001b[39;00m\n\u001b[1;32m--> 676\u001b[0m     \u001b[38;5;28;01mreturn\u001b[39;00m get_font(findfont(\u001b[38;5;28mself\u001b[39m))\u001b[38;5;241m.\u001b[39mfamily_name\n",
            "File \u001b[1;32mc:\\Users\\302-15\\anaconda3\\Lib\\site-packages\\matplotlib\\font_manager.py:1560\u001b[0m, in \u001b[0;36mget_font\u001b[1;34m(font_filepaths, hinting_factor)\u001b[0m\n\u001b[0;32m   1557\u001b[0m \u001b[38;5;28;01mif\u001b[39;00m hinting_factor \u001b[38;5;129;01mis\u001b[39;00m \u001b[38;5;28;01mNone\u001b[39;00m:\n\u001b[0;32m   1558\u001b[0m     hinting_factor \u001b[38;5;241m=\u001b[39m mpl\u001b[38;5;241m.\u001b[39mrcParams[\u001b[38;5;124m'\u001b[39m\u001b[38;5;124mtext.hinting_factor\u001b[39m\u001b[38;5;124m'\u001b[39m]\n\u001b[1;32m-> 1560\u001b[0m \u001b[38;5;28;01mreturn\u001b[39;00m _get_font(\n\u001b[0;32m   1561\u001b[0m     \u001b[38;5;66;03m# must be a tuple to be cached\u001b[39;00m\n\u001b[0;32m   1562\u001b[0m     paths,\n\u001b[0;32m   1563\u001b[0m     hinting_factor,\n\u001b[0;32m   1564\u001b[0m     _kerning_factor\u001b[38;5;241m=\u001b[39mmpl\u001b[38;5;241m.\u001b[39mrcParams[\u001b[38;5;124m'\u001b[39m\u001b[38;5;124mtext.kerning_factor\u001b[39m\u001b[38;5;124m'\u001b[39m],\n\u001b[0;32m   1565\u001b[0m     \u001b[38;5;66;03m# also key on the thread ID to prevent segfaults with multi-threading\u001b[39;00m\n\u001b[0;32m   1566\u001b[0m     thread_id\u001b[38;5;241m=\u001b[39mthreading\u001b[38;5;241m.\u001b[39mget_ident()\n\u001b[0;32m   1567\u001b[0m )\n",
            "File \u001b[1;32mc:\\Users\\302-15\\anaconda3\\Lib\\site-packages\\matplotlib\\font_manager.py:1502\u001b[0m, in \u001b[0;36m_get_font\u001b[1;34m(font_filepaths, hinting_factor, _kerning_factor, thread_id)\u001b[0m\n\u001b[0;32m   1499\u001b[0m \u001b[38;5;129m@lru_cache\u001b[39m(\u001b[38;5;241m64\u001b[39m)\n\u001b[0;32m   1500\u001b[0m \u001b[38;5;28;01mdef\u001b[39;00m \u001b[38;5;21m_get_font\u001b[39m(font_filepaths, hinting_factor, \u001b[38;5;241m*\u001b[39m, _kerning_factor, thread_id):\n\u001b[0;32m   1501\u001b[0m     first_fontpath, \u001b[38;5;241m*\u001b[39mrest \u001b[38;5;241m=\u001b[39m font_filepaths\n\u001b[1;32m-> 1502\u001b[0m     \u001b[38;5;28;01mreturn\u001b[39;00m ft2font\u001b[38;5;241m.\u001b[39mFT2Font(\n\u001b[0;32m   1503\u001b[0m         first_fontpath, hinting_factor,\n\u001b[0;32m   1504\u001b[0m         _fallback_list\u001b[38;5;241m=\u001b[39m[\n\u001b[0;32m   1505\u001b[0m             ft2font\u001b[38;5;241m.\u001b[39mFT2Font(\n\u001b[0;32m   1506\u001b[0m                 fpath, hinting_factor,\n\u001b[0;32m   1507\u001b[0m                 _kerning_factor\u001b[38;5;241m=\u001b[39m_kerning_factor\n\u001b[0;32m   1508\u001b[0m             )\n\u001b[0;32m   1509\u001b[0m             \u001b[38;5;28;01mfor\u001b[39;00m fpath \u001b[38;5;129;01min\u001b[39;00m rest\n\u001b[0;32m   1510\u001b[0m         ],\n\u001b[0;32m   1511\u001b[0m         _kerning_factor\u001b[38;5;241m=\u001b[39m_kerning_factor\n\u001b[0;32m   1512\u001b[0m     )\n",
            "\u001b[1;31mFileNotFoundError\u001b[0m: [Errno 2] No such file or directory: 'C:\\\\Windows\\\\Fonts\\\\NGULIM.TTF'"
          ]
        }
      ],
      "source": [
        "import platform\n",
        "import matplotlib as mpl\n",
        "\n",
        "# 윈도우 설정\n",
        "if platform.system() == 'Windows':\n",
        "    font_path = \"C:/Windows/Fonts/NGULIM.TTF\"\n",
        "    font = mpl.font_manager.FontProperties(fname=font_path).get_name()\n",
        "    plt.rc('font', family=font)\n",
        "# 우분투/구글 코랩 설정\n",
        "elif platform.system() == 'Linux':\n",
        "    # 우분투/구글코랩의 경우 아래 명령문이 최소 한번 실행되어야 함\n",
        "    # !sudo apt-get install -y fonts-nanum*\n",
        "    # !fc-cache -fv\n",
        "\n",
        "    font = \"NanumBarunGothic\"\n",
        "    if not any(map(lambda ft: ft.name == font, mpl.font_manager.fontManager.ttflist)):\n",
        "        mpl.font_manager.fontManager.addfont(\"/usr/share/fonts/truetype/nanum/NanumBarunGothic.ttf\")\n",
        "    plt.rc(\"font\", family=font)\n",
        "    plt.rc(\"axes\", unicode_minus=False)"
      ]
    },
    {
      "cell_type": "markdown",
      "id": "451e25d5",
      "metadata": {
        "id": "451e25d5"
      },
      "source": [
        "## 데이터 준비"
      ]
    },
    {
      "cell_type": "markdown",
      "id": "5aa9f34e",
      "metadata": {
        "id": "5aa9f34e"
      },
      "source": [
        "영산강에 설치된 승천보에서 측정한 두 개의 데이터셋이다.\n",
        "\n",
        "- `chl_a`: 녹조 발생의 주요 요인인 클로로필-A의 수치 100개\n",
        "- `flow`: 보에서 방출되는 시간당 방류량 수치 100개\n",
        "\n",
        "두 데이터셋의 인덱스는 수질(water quality)을 가리키며,\n",
        "높은 숫자일 수록 수질은 나쁘다."
      ]
    },
    {
      "cell_type": "code",
      "execution_count": null,
      "id": "b07f5968",
      "metadata": {
        "id": "b07f5968"
      },
      "outputs": [],
      "source": [
        "# 클로로필-A 수치 100개\n",
        "\n",
        "chl_a = [51, 51, 53, 53, 54, 55, 57, 57, 59, 60,\n",
        "         61, 62, 63, 64, 65, 66, 67, 67, 67, 69,\n",
        "         70, 71, 71, 72, 73, 75, 75, 76, 77, 79,\n",
        "         81, 81, 83, 83, 85, 86, 87, 88, 88, 88,\n",
        "         89, 89, 90, 91, 92, 95, 96, 96, 97, 98,\n",
        "         98, 98, 99, 101, 101, 102, 102, 103, 104, 104,\n",
        "         104, 104, 105, 106, 107, 108, 110, 111, 111, 112,\n",
        "         112, 112, 113, 114, 114, 116, 116, 116, 117, 118,\n",
        "         118, 118, 118, 119, 120, 120, 121, 122, 125, 120,\n",
        "         121, 121, 121, 122, 122, 122, 122, 124, 125, 124]"
      ]
    },
    {
      "cell_type": "code",
      "execution_count": 95,
      "id": "7d6a2b0c",
      "metadata": {
        "id": "7d6a2b0c"
      },
      "outputs": [],
      "source": [
        "# 시간당 방류량 수치 100개\n",
        "\n",
        "flow = [25, 25, 24, 24, 22, 22, 21, 21, 20, 20,\n",
        "        19, 19, 19, 18, 18, 18, 17, 17, 17, 16,\n",
        "        16, 16, 17, 16, 17, 17, 16, 16, 16, 16,\n",
        "        16, 16, 16, 16, 16, 15, 15, 15, 15, 15,\n",
        "        15, 14, 15, 14, 14, 13, 13, 13, 13, 13,\n",
        "        13, 13, 13, 13, 13, 13, 12, 12, 12, 12,\n",
        "        12, 12, 52, 11, 11, 11, 11, 11, 12, 12,\n",
        "        12, 12, 12, 11, 12, 12, 12, 11, 11, 11,\n",
        "        11, 11, 11, 11, 11, 11, 11, 11, 11, 10,\n",
        "        9, 9, 9, 9, 9, 9, 9, 49, 9, 9]"
      ]
    },
    {
      "cell_type": "markdown",
      "id": "4057b988",
      "metadata": {
        "id": "4057b988"
      },
      "source": [
        "**문제**"
      ]
    },
    {
      "cell_type": "markdown",
      "id": "dcf9d30b",
      "metadata": {
        "id": "dcf9d30b"
      },
      "source": [
        "각각의 데이터셋 크기가 100임을 확인하라.\n",
        "\n",
        "힌트: `len()` 함수"
      ]
    },
    {
      "cell_type": "code",
      "execution_count": null,
      "id": "f4251f45",
      "metadata": {
        "id": "f4251f45"
      },
      "outputs": [
        {
          "data": {
            "text/plain": [
              "100"
            ]
          },
          "execution_count": 122,
          "metadata": {},
          "output_type": "execute_result"
        }
      ],
      "source": [
        "len(chl_a)"
      ]
    },
    {
      "cell_type": "code",
      "execution_count": 123,
      "id": "e3aaf09e",
      "metadata": {},
      "outputs": [
        {
          "data": {
            "text/plain": [
              "100"
            ]
          },
          "execution_count": 123,
          "metadata": {},
          "output_type": "execute_result"
        }
      ],
      "source": [
        "len(flow)"
      ]
    },
    {
      "cell_type": "markdown",
      "id": "f5dc3aac",
      "metadata": {
        "id": "f5dc3aac"
      },
      "source": [
        "**문제**"
      ]
    },
    {
      "cell_type": "markdown",
      "id": "5423885b",
      "metadata": {
        "id": "5423885b"
      },
      "source": [
        "가장 높은 클로로필-A의 수치는 얼마인가?"
      ]
    },
    {
      "cell_type": "code",
      "execution_count": 118,
      "id": "b38ff228",
      "metadata": {
        "id": "b38ff228"
      },
      "outputs": [
        {
          "data": {
            "text/plain": [
              "125"
            ]
          },
          "execution_count": 118,
          "metadata": {},
          "output_type": "execute_result"
        }
      ],
      "source": [
        "max(chl_a)"
      ]
    },
    {
      "cell_type": "code",
      "execution_count": null,
      "id": "c86b7cce",
      "metadata": {},
      "outputs": [],
      "source": [
        "가장 낮은 클로로필-A의 수치는 얼마인가?"
      ]
    },
    {
      "cell_type": "code",
      "execution_count": null,
      "metadata": {},
      "outputs": [],
      "source": [
        "min(chl_a)"
      ]
    },
    {
      "cell_type": "markdown",
      "id": "050234f0",
      "metadata": {
        "id": "050234f0"
      },
      "source": [
        "**문제**\n"
      ]
    },
    {
      "cell_type": "code",
      "execution_count": null,
      "id": "973eb1fb",
      "metadata": {},
      "outputs": [],
      "source": [
        "**가장 높은 시간당 방류량 수치는 얼마인가?**"
      ]
    },
    {
      "cell_type": "code",
      "execution_count": 125,
      "id": "e2e494d3",
      "metadata": {},
      "outputs": [
        {
          "data": {
            "text/plain": [
              "52"
            ]
          },
          "execution_count": 125,
          "metadata": {},
          "output_type": "execute_result"
        }
      ],
      "source": [
        "max(flow)"
      ]
    },
    {
      "cell_type": "markdown",
      "id": "af256b34",
      "metadata": {
        "id": "af256b34"
      },
      "source": [
        "가장 낮은 시간당 방류량 수치는 얼마인가?"
      ]
    },
    {
      "cell_type": "code",
      "execution_count": 126,
      "id": "ebf50466",
      "metadata": {
        "id": "ebf50466"
      },
      "outputs": [
        {
          "data": {
            "text/plain": [
              "9"
            ]
          },
          "execution_count": 126,
          "metadata": {},
          "output_type": "execute_result"
        }
      ],
      "source": [
        "min(flow)\n"
      ]
    },
    {
      "cell_type": "markdown",
      "id": "fb8a227d",
      "metadata": {
        "id": "fb8a227d"
      },
      "source": [
        "## 데이터 살펴보기"
      ]
    },
    {
      "cell_type": "markdown",
      "id": "37e7ef28",
      "metadata": {
        "id": "37e7ef28"
      },
      "source": [
        "**문제**"
      ]
    },
    {
      "cell_type": "markdown",
      "id": "00a80a4a",
      "metadata": {
        "id": "00a80a4a"
      },
      "source": [
        "클로로필-A 데이터에 포함된 값들의 빈도를 막대그래프로 그려라.\n",
        "\n",
        "힌트: `from collections import Counter"
      ]
    },
    {
      "cell_type": "code",
      "execution_count": 128,
      "id": "fcbf895e",
      "metadata": {},
      "outputs": [
        {
          "data": {
            "image/png": "[encoded data removed]",
            "text/plain": [
              "<Figure size 1000x600 with 1 Axes>"
            ]
          },
          "metadata": {},
          "output_type": "display_data"
        }
      ],
      "source": [
        "from collections import Counter\n",
        "import matplotlib.pyplot as pit\n",
        "xs = range(101)\n",
        "\n",
        "chla_counts = Counter(chl_a)\n",
        "ys = [chla_counts[x] for x in xs]\n",
        "\n",
        "max(chla_counts.values())\n",
        "min(chla_counts.values())\n",
        "\n",
        "# 막대그래프 그리기\n",
        "plt.bar(xs, ys)\n",
        "\n",
        "# 그래프 설정\n",
        "plt.axis([50, 125, 0, 5])        # x축은 0부터 100까지, y축은 0부터 25까지 눈금 사용\n",
        "plt.xlabel(\"클로로필a 수치\")     # x축 눈금 설명\n",
        "plt.ylabel(\"발생 수\")            # y축 눈금 설명\n",
        "plt.show()"
      ]
    },
    {
      "cell_type": "markdown",
      "id": "1f41759e",
      "metadata": {
        "id": "1f41759e"
      },
      "source": [
        "## 중심 경향성과 평균"
      ]
    },
    {
      "cell_type": "markdown",
      "id": "18f4effa",
      "metadata": {
        "id": "18f4effa"
      },
      "source": [
        "**문제**"
      ]
    },
    {
      "cell_type": "markdown",
      "id": "b354d2bf",
      "metadata": {
        "id": "b354d2bf"
      },
      "source": [
        "방류량의 평균값을 계산하라."
      ]
    },
    {
      "cell_type": "code",
      "execution_count": 129,
      "id": "1ddbe386",
      "metadata": {
        "id": "1ddbe386"
      },
      "outputs": [
        {
          "data": {
            "text/plain": [
              "14.93"
            ]
          },
          "execution_count": 129,
          "metadata": {},
          "output_type": "execute_result"
        }
      ],
      "source": [
        "average_flow = sum(flow) / len(flow)\n",
        "average_flow"
      ]
    },
    {
      "cell_type": "markdown",
      "id": "86a72482",
      "metadata": {
        "id": "86a72482"
      },
      "source": [
        "**문제**"
      ]
    },
    {
      "cell_type": "markdown",
      "id": "16dc162e",
      "metadata": {
        "id": "16dc162e"
      },
      "source": [
        "방류량의 중앙값을 계산하라."
      ]
    },
    {
      "cell_type": "code",
      "execution_count": 87,
      "id": "93814d67",
      "metadata": {
        "id": "93814d67"
      },
      "outputs": [],
      "source": [
        "flow = [average_flow]\n",
        "median_value = np.median(flow)\n"
      ]
    },
    {
      "cell_type": "markdown",
      "id": "2a9785dc",
      "metadata": {
        "id": "2a9785dc"
      },
      "source": [
        "**문제**"
      ]
    },
    {
      "cell_type": "markdown",
      "id": "b72a49d8",
      "metadata": {
        "id": "b72a49d8"
      },
      "source": [
        "방류량의 최빈값을 계산하라."
      ]
    },
    {
      "cell_type": "code",
      "execution_count": 106,
      "id": "57bbd378",
      "metadata": {
        "id": "57bbd378"
      },
      "outputs": [
        {
          "name": "stdout",
          "output_type": "stream",
          "text": [
            "11\n"
          ]
        }
      ],
      "source": [
        "flow_counts = Counter(flow)\n",
        "most_common_flow = flow_counts.most_common(1)\n",
        "mode_flow = most_common_flow[0][0]\n",
        "print(mode_flow)"
      ]
    },
    {
      "cell_type": "markdown",
      "id": "8b501a41",
      "metadata": {
        "id": "8b501a41"
      },
      "source": [
        "**문제**"
      ]
    },
    {
      "cell_type": "markdown",
      "id": "30081d43",
      "metadata": {
        "id": "30081d43"
      },
      "source": [
        "방류량의 제1, 제3 사분위수를 계산하라."
      ]
    },
    {
      "cell_type": "code",
      "execution_count": 109,
      "id": "7ce74e81",
      "metadata": {
        "id": "7ce74e81"
      },
      "outputs": [
        {
          "name": "stdout",
          "output_type": "stream",
          "text": [
            "11.0\n",
            "16.0\n"
          ]
        }
      ],
      "source": [
        "Q1 = np.quantile(flow,0.25)\n",
        "Q2 = np.quantile(flow,0.75)\n",
        "print(Q1)\n",
        "print(Q2)"
      ]
    },
    {
      "cell_type": "markdown",
      "id": "3d9a6797",
      "metadata": {
        "id": "3d9a6797"
      },
      "source": [
        "## 산포도와 분산"
      ]
    },
    {
      "cell_type": "markdown",
      "id": "453df3b1",
      "metadata": {
        "id": "453df3b1"
      },
      "source": [
        "**문제**"
      ]
    },
    {
      "cell_type": "markdown",
      "id": "2dc793d1",
      "metadata": {
        "id": "2dc793d1"
      },
      "source": [
        "클로로필-A 데이터의 범위를 계산하라."
      ]
    },
    {
      "cell_type": "code",
      "execution_count": 115,
      "id": "23bd71d0",
      "metadata": {
        "id": "23bd71d0"
      },
      "outputs": [
        {
          "name": "stdout",
          "output_type": "stream",
          "text": [
            "The range of the Chlorophyll-a data is: 74\n"
          ]
        }
      ],
      "source": [
        "chl_a_range = np.ptp(chl_a)\n",
        "print(f\"The range of the Chlorophyll-a data is: {chl_a_range}\")"
      ]
    },
    {
      "cell_type": "markdown",
      "id": "1deb85f8",
      "metadata": {
        "id": "1deb85f8"
      },
      "source": [
        "**문제**"
      ]
    },
    {
      "cell_type": "markdown",
      "id": "f30911df",
      "metadata": {
        "id": "f30911df"
      },
      "source": [
        "클로로필-A 데이터의 분산을 계산하라."
      ]
    },
    {
      "cell_type": "code",
      "execution_count": 130,
      "id": "bd2353aa",
      "metadata": {
        "id": "bd2353aa"
      },
      "outputs": [],
      "source": [
        "variance = np.var(chl_a, ddof=1)"
      ]
    },
    {
      "cell_type": "markdown",
      "id": "f6b300c9",
      "metadata": {
        "id": "f6b300c9"
      },
      "source": [
        "**문제**"
      ]
    },
    {
      "cell_type": "markdown",
      "id": "9a156e8b",
      "metadata": {
        "id": "9a156e8b"
      },
      "source": [
        "클로로필-A 데이터의 표준편차를 계산하라."
      ]
    },
    {
      "cell_type": "code",
      "execution_count": 131,
      "id": "7a2e8f19",
      "metadata": {
        "id": "7a2e8f19"
      },
      "outputs": [],
      "source": [
        "import math\n",
        "def std(chl_a):\n",
        "    return math.sqrt(var(chl_a))"
      ]
    },
    {
      "cell_type": "markdown",
      "id": "d73b2b11",
      "metadata": {
        "id": "d73b2b11"
      },
      "source": [
        "## 선형 상관관계"
      ]
    },
    {
      "cell_type": "markdown",
      "id": "da835ea6",
      "metadata": {
        "id": "da835ea6"
      },
      "source": [
        "**문제**"
      ]
    },
    {
      "cell_type": "markdown",
      "id": "2190b90e",
      "metadata": {
        "id": "2190b90e"
      },
      "source": [
        "클로로필-A와 시간당 방류량 사이의 공분산을 계산하고\n",
        "두 데이터 사이의 상관관계를 설명하라."
      ]
    },
    {
      "cell_type": "code",
      "execution_count": null,
      "id": "0dc70d6b",
      "metadata": {
        "id": "0dc70d6b"
      },
      "outputs": [],
      "source": []
    },
    {
      "cell_type": "markdown",
      "id": "719162e0",
      "metadata": {
        "id": "719162e0"
      },
      "source": [
        "**문제**"
      ]
    },
    {
      "cell_type": "markdown",
      "id": "38a364fc",
      "metadata": {
        "id": "38a364fc"
      },
      "source": [
        "클로로필-A와 시간당 방류량 사이의 피어슨 상관계수를 계산하고\n",
        "두 데이터 사이의 선형 상관관계를 설명하라."
      ]
    },
    {
      "cell_type": "code",
      "execution_count": null,
      "id": "1aef423c",
      "metadata": {
        "id": "1aef423c"
      },
      "outputs": [],
      "source": []
    },
    {
      "cell_type": "markdown",
      "id": "e3df3dc0",
      "metadata": {
        "id": "e3df3dc0"
      },
      "source": [
        "## 이상치"
      ]
    },
    {
      "cell_type": "markdown",
      "id": "0396b3f7",
      "metadata": {
        "id": "0396b3f7"
      },
      "source": [
        "**산점도**"
      ]
    },
    {
      "cell_type": "markdown",
      "id": "ce0db165",
      "metadata": {
        "id": "ce0db165"
      },
      "source": [
        "x축을 방류량, y축을 클로로필-A 수치로 지정한 다음 산점도를 그려보자."
      ]
    },
    {
      "cell_type": "code",
      "execution_count": 133,
      "id": "e1082a1a",
      "metadata": {
        "id": "e1082a1a",
        "outputId": "4647d12e-33da-4e01-8d79-a4a6cc21e3cd"
      },
      "outputs": [
        {
          "data": {
            "image/png": "[encoded data removed]",
            "text/plain": [
              "<Figure size 1000x600 with 1 Axes>"
            ]
          },
          "metadata": {},
          "output_type": "display_data"
        }
      ],
      "source": [
        "plt.scatter(flow, chl_a)\n",
        "\n",
        "# 그래프 설정\n",
        "plt.xlabel(\"방류량\")           # x축 눈금 설명\n",
        "plt.ylabel(\"클로로필-A\")       # y축 눈금 설명\n",
        "plt.show()"
      ]
    },
    {
      "cell_type": "markdown",
      "id": "81fdd2f3",
      "metadata": {
        "id": "81fdd2f3"
      },
      "source": [
        "**문제**"
      ]
    },
    {
      "cell_type": "markdown",
      "id": "fe1b7c70",
      "metadata": {
        "id": "fe1b7c70"
      },
      "source": [
        "위 산점도에 따르면 두 개의 이상치가 존재한다.\n",
        "어떤 데이터가 이상치인지 설명하라."
      ]
    },
    {
      "cell_type": "markdown",
      "id": "161908a9",
      "metadata": {
        "id": "161908a9"
      },
      "source": []
    },
    {
      "cell_type": "markdown",
      "id": "5a45e5c2",
      "metadata": {
        "id": "5a45e5c2"
      },
      "source": [
        "**문제**"
      ]
    },
    {
      "cell_type": "markdown",
      "id": "34b67544",
      "metadata": {
        "id": "34b67544"
      },
      "source": [
        "클로로필-A 데이터와 방수량 두 데이터셋 모두에서\n",
        "이상치에 해당하는 두 개의 값을 제거한다."
      ]
    },
    {
      "cell_type": "code",
      "execution_count": null,
      "id": "3e97166c",
      "metadata": {
        "id": "3e97166c"
      },
      "outputs": [],
      "source": [
        "# None을 적절한 표현식으로 대체할 것.\n",
        "\n",
        "new_chl_a = None"
      ]
    },
    {
      "cell_type": "code",
      "execution_count": null,
      "id": "36cc9fbd",
      "metadata": {
        "id": "36cc9fbd"
      },
      "outputs": [],
      "source": [
        "# None을 적절한 표현식으로 대체할 것.\n",
        "\n",
        "new_flow = None"
      ]
    },
    {
      "cell_type": "markdown",
      "id": "72704922",
      "metadata": {
        "id": "72704922"
      },
      "source": [
        "이상치를 제거한 두 데이터셋을 이용하여 산점도를 다시 그려라."
      ]
    },
    {
      "cell_type": "code",
      "execution_count": null,
      "id": "726c25fa",
      "metadata": {
        "id": "726c25fa",
        "outputId": "51c0ed19-3b87-406c-9906-f287922fa246"
      },
      "outputs": [],
      "source": [
        "plt.scatter(new_flow, new_chl_a)\n",
        "\n",
        "# 그래프 설정\n",
        "plt.xlabel(\"방류량\")           # x축 눈금 설명\n",
        "plt.ylabel(\"클로로필-A\")       # y축 눈금 설명\n",
        "plt.show()"
      ]
    },
    {
      "cell_type": "markdown",
      "id": "60027bf2",
      "metadata": {
        "id": "60027bf2"
      },
      "source": [
        "**문제**"
      ]
    },
    {
      "cell_type": "markdown",
      "id": "8002b022",
      "metadata": {
        "id": "8002b022"
      },
      "source": [
        "이상치를 제거하기 이전과 이후의 데이터셋을 이용하여 아래 값들이 어떻게 달라졌는지 설명하라.\n",
        "\n",
        "- 평균값, 중앙값, 최빈값\n",
        "- 범위, 사분범위, 분산, 표준편차\n",
        "- 공분산, 피어슨 상관계수"
      ]
    },
    {
      "cell_type": "markdown",
      "id": "c65f2a3d",
      "metadata": {
        "id": "c65f2a3d"
      },
      "source": []
    }
  ],
  "metadata": {
    "colab": {
      "provenance": []
    },
    "kernelspec": {
      "display_name": "base",
      "language": "python",
      "name": "python3"
    },
    "language_info": {
      "codemirror_mode": {
        "name": "ipython",
        "version": 3
      },
      "file_extension": ".py",
      "mimetype": "text/x-python",
      "name": "python",
      "nbconvert_exporter": "python",
      "pygments_lexer": "ipython3",
      "version": "3.12.7"
    }
  },
  "nbformat": 4,
  "nbformat_minor": 5
}
