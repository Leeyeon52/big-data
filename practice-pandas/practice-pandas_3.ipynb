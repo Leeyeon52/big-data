{
 "cells": [
  {
   "cell_type": "markdown",
   "metadata": {
    "id": "vN2D9cmLHZ3_"
   },
   "source": [
    "# (실습) 데이터프레임 중심 프로그래밍"
   ]
  },
  {
   "cell_type": "code",
   "execution_count": 174,
   "metadata": {
    "id": "6npwBU-pXKc1"
   },
   "outputs": [],
   "source": [
    "import numpy as np\n",
    "import pandas as pd"
   ]
  },
  {
   "cell_type": "markdown",
   "metadata": {
    "id": "UAmW-dG6BhUI"
   },
   "source": [
    "**문제 1**"
   ]
  },
  {
   "cell_type": "markdown",
   "metadata": {
    "id": "jhZpoc8kXA8u"
   },
   "source": [
    "아래의 딕셔너리 `data`를 이용하여 데이터프레임`df1`를 생성하라."
   ]
  },
  {
   "cell_type": "code",
   "execution_count": 175,
   "metadata": {
    "colab": {
     "base_uri": "https://localhost:8080/",
     "height": 313
    },
    "executionInfo": {
     "elapsed": 597,
     "status": "ok",
     "timestamp": 1620615043078,
     "user": {
      "displayName": "­정성엽 / 학생 / 컴퓨터공학부",
      "photoUrl": "",
      "userId": "12165438926956780307"
     },
     "user_tz": -540
    },
    "id": "u-2gZxvtLoUF",
    "outputId": "8e80fb39-2771-490b-8b77-35283e27dd2b"
   },
   "outputs": [],
   "source": [
    "data = {'A': [0, 5, 15, 20, 25, 30, 35, 40],\n",
    "        'B' : [1, 2, 3, 4, 5, 6, 7, 8]}"
   ]
  },
  {
   "cell_type": "code",
   "execution_count": 176,
   "metadata": {
    "colab": {
     "base_uri": "https://localhost:8080/",
     "height": 313
    },
    "executionInfo": {
     "elapsed": 597,
     "status": "ok",
     "timestamp": 1620615043078,
     "user": {
      "displayName": "­정성엽 / 학생 / 컴퓨터공학부",
      "photoUrl": "",
      "userId": "12165438926956780307"
     },
     "user_tz": -540
    },
    "id": "u-2gZxvtLoUF",
    "outputId": "8e80fb39-2771-490b-8b77-35283e27dd2b"
   },
   "outputs": [
    {
     "data": {
      "text/html": [
       "<div>\n",
       "<style scoped>\n",
       "    .dataframe tbody tr th:only-of-type {\n",
       "        vertical-align: middle;\n",
       "    }\n",
       "\n",
       "    .dataframe tbody tr th {\n",
       "        vertical-align: top;\n",
       "    }\n",
       "\n",
       "    .dataframe thead th {\n",
       "        text-align: right;\n",
       "    }\n",
       "</style>\n",
       "<table border=\"1\" class=\"dataframe\">\n",
       "  <thead>\n",
       "    <tr style=\"text-align: right;\">\n",
       "      <th></th>\n",
       "      <th>A</th>\n",
       "      <th>B</th>\n",
       "    </tr>\n",
       "  </thead>\n",
       "  <tbody>\n",
       "    <tr>\n",
       "      <th>0</th>\n",
       "      <td>0</td>\n",
       "      <td>1</td>\n",
       "    </tr>\n",
       "    <tr>\n",
       "      <th>1</th>\n",
       "      <td>5</td>\n",
       "      <td>2</td>\n",
       "    </tr>\n",
       "    <tr>\n",
       "      <th>2</th>\n",
       "      <td>15</td>\n",
       "      <td>3</td>\n",
       "    </tr>\n",
       "    <tr>\n",
       "      <th>3</th>\n",
       "      <td>20</td>\n",
       "      <td>4</td>\n",
       "    </tr>\n",
       "    <tr>\n",
       "      <th>4</th>\n",
       "      <td>25</td>\n",
       "      <td>5</td>\n",
       "    </tr>\n",
       "    <tr>\n",
       "      <th>5</th>\n",
       "      <td>30</td>\n",
       "      <td>6</td>\n",
       "    </tr>\n",
       "    <tr>\n",
       "      <th>6</th>\n",
       "      <td>35</td>\n",
       "      <td>7</td>\n",
       "    </tr>\n",
       "    <tr>\n",
       "      <th>7</th>\n",
       "      <td>40</td>\n",
       "      <td>8</td>\n",
       "    </tr>\n",
       "  </tbody>\n",
       "</table>\n",
       "</div>"
      ],
      "text/plain": [
       "    A  B\n",
       "0   0  1\n",
       "1   5  2\n",
       "2  15  3\n",
       "3  20  4\n",
       "4  25  5\n",
       "5  30  6\n",
       "6  35  7\n",
       "7  40  8"
      ]
     },
     "execution_count": 176,
     "metadata": {},
     "output_type": "execute_result"
    }
   ],
   "source": [
    "# None 을 적절한 표현식으로 대체하라.\n",
    "\n",
    "df1 = pd.DataFrame(data)\n",
    "\n",
    "df1"
   ]
  },
  {
   "cell_type": "markdown",
   "metadata": {
    "id": "UAmW-dG6BhUI"
   },
   "source": [
    "**문제 2**"
   ]
  },
  {
   "cell_type": "markdown",
   "metadata": {
    "id": "JfBtyh2QZ_6f"
   },
   "source": [
    "다음 두 리스트를 이용하여 `C`와 `D`열을 `df1`에 추가하라."
   ]
  },
  {
   "cell_type": "code",
   "execution_count": 177,
   "metadata": {
    "colab": {
     "base_uri": "https://localhost:8080/",
     "height": 313
    },
    "executionInfo": {
     "elapsed": 813,
     "status": "ok",
     "timestamp": 1620615095498,
     "user": {
      "displayName": "­정성엽 / 학생 / 컴퓨터공학부",
      "photoUrl": "",
      "userId": "12165438926956780307"
     },
     "user_tz": -540
    },
    "id": "QUZtSaA7LzH7",
    "outputId": "0608d26b-9def-435a-ddc0-437d3d1e65fb"
   },
   "outputs": [],
   "source": [
    "C = [3, 3, 3, 3, 3, 3, 3, 3]\n",
    "D = [4, 2, 9, 1, 20, 3, 15, 17]"
   ]
  },
  {
   "cell_type": "code",
   "execution_count": 178,
   "metadata": {
    "colab": {
     "base_uri": "https://localhost:8080/",
     "height": 313
    },
    "executionInfo": {
     "elapsed": 813,
     "status": "ok",
     "timestamp": 1620615095498,
     "user": {
      "displayName": "­정성엽 / 학생 / 컴퓨터공학부",
      "photoUrl": "",
      "userId": "12165438926956780307"
     },
     "user_tz": -540
    },
    "id": "QUZtSaA7LzH7",
    "outputId": "0608d26b-9def-435a-ddc0-437d3d1e65fb"
   },
   "outputs": [],
   "source": [
    "# pass 를 적절한 명령문으로 대체하라.\n",
    "\n",
    "df1['C'] = C\n",
    "\n",
    "df1['D'] = D"
   ]
  },
  {
   "cell_type": "markdown",
   "metadata": {
    "id": "UAmW-dG6BhUI"
   },
   "source": [
    "**문제 3**"
   ]
  },
  {
   "cell_type": "markdown",
   "metadata": {
    "id": "NpreNqo_ZuBJ"
   },
   "source": [
    "`df1`의 각 열의 합을 계산하는 한줄 코드를 작성하라."
   ]
  },
  {
   "cell_type": "code",
   "execution_count": 179,
   "metadata": {
    "colab": {
     "base_uri": "https://localhost:8080/",
     "height": 136
    },
    "executionInfo": {
     "elapsed": 589,
     "status": "ok",
     "timestamp": 1620619031607,
     "user": {
      "displayName": "HJ Kim",
      "photoUrl": "",
      "userId": "16634276932240017990"
     },
     "user_tz": -540
    },
    "id": "pgq1TBj6a59k",
    "outputId": "09567067-aae1-47fa-b507-009b58e521ed"
   },
   "outputs": [
    {
     "data": {
      "text/plain": [
       "A    170\n",
       "B     36\n",
       "C     24\n",
       "D     71\n",
       "dtype: int64"
      ]
     },
     "execution_count": 179,
     "metadata": {},
     "output_type": "execute_result"
    }
   ],
   "source": [
    "# pass 를 한줄 코드로 대체하라.\n",
    "\n",
    "df1.sum()"
   ]
  },
  {
   "cell_type": "markdown",
   "metadata": {
    "id": "UAmW-dG6BhUI"
   },
   "source": [
    "**문제 4**"
   ]
  },
  {
   "cell_type": "markdown",
   "metadata": {
    "id": "NpreNqo_ZuBJ"
   },
   "source": [
    "`df1`의 각 행의 합을 계산하는 한줄 코드를 작성하라."
   ]
  },
  {
   "cell_type": "code",
   "execution_count": 180,
   "metadata": {
    "colab": {
     "base_uri": "https://localhost:8080/",
     "height": 136
    },
    "executionInfo": {
     "elapsed": 589,
     "status": "ok",
     "timestamp": 1620619031607,
     "user": {
      "displayName": "HJ Kim",
      "photoUrl": "",
      "userId": "16634276932240017990"
     },
     "user_tz": -540
    },
    "id": "pgq1TBj6a59k",
    "outputId": "09567067-aae1-47fa-b507-009b58e521ed"
   },
   "outputs": [],
   "source": [
    "# pass 를 한줄 코드로 대체하라.\n",
    "\n",
    "df1[\"Row_sum\"] = df1.sum(axis=1)"
   ]
  },
  {
   "cell_type": "markdown",
   "metadata": {
    "id": "UAmW-dG6BhUI"
   },
   "source": [
    "**문제 5**"
   ]
  },
  {
   "cell_type": "markdown",
   "metadata": {
    "id": "rYOj3OZjbcF_"
   },
   "source": [
    "`A`, `B`, `D`열에서 행 인덱스가 2, 3, 4인 자료를 추출하는\n",
    "한줄 코드를 작성하라. "
   ]
  },
  {
   "cell_type": "code",
   "execution_count": 181,
   "metadata": {
    "colab": {
     "base_uri": "https://localhost:8080/",
     "height": 136
    },
    "executionInfo": {
     "elapsed": 589,
     "status": "ok",
     "timestamp": 1620619031607,
     "user": {
      "displayName": "HJ Kim",
      "photoUrl": "",
      "userId": "16634276932240017990"
     },
     "user_tz": -540
    },
    "id": "pgq1TBj6a59k",
    "outputId": "09567067-aae1-47fa-b507-009b58e521ed"
   },
   "outputs": [],
   "source": [
    "# pass 를 한줄 코드로 대체하라.\n",
    "\n",
    "df_selected = df1.loc[[2,3,4],['A','B','D']]"
   ]
  },
  {
   "cell_type": "markdown",
   "metadata": {},
   "source": [
    "**문제 6**"
   ]
  },
  {
   "cell_type": "markdown",
   "metadata": {
    "id": "kCUmr5xTbfrG"
   },
   "source": [
    "`df1`에 `K`열을 추가하여라. 이때, `K`열의 각 항목은 `B`열의 각 항목 곱하기 3이다. "
   ]
  },
  {
   "cell_type": "code",
   "execution_count": 182,
   "metadata": {
    "colab": {
     "base_uri": "https://localhost:8080/",
     "height": 313
    },
    "executionInfo": {
     "elapsed": 956,
     "status": "ok",
     "timestamp": 1620617012598,
     "user": {
      "displayName": "­정성엽 / 학생 / 컴퓨터공학부",
      "photoUrl": "",
      "userId": "12165438926956780307"
     },
     "user_tz": -540
    },
    "id": "lNGCpaMbTNI1",
    "outputId": "f20dc37d-7c69-4e96-9070-8d728af4a7c1"
   },
   "outputs": [
    {
     "data": {
      "text/html": [
       "<div>\n",
       "<style scoped>\n",
       "    .dataframe tbody tr th:only-of-type {\n",
       "        vertical-align: middle;\n",
       "    }\n",
       "\n",
       "    .dataframe tbody tr th {\n",
       "        vertical-align: top;\n",
       "    }\n",
       "\n",
       "    .dataframe thead th {\n",
       "        text-align: right;\n",
       "    }\n",
       "</style>\n",
       "<table border=\"1\" class=\"dataframe\">\n",
       "  <thead>\n",
       "    <tr style=\"text-align: right;\">\n",
       "      <th></th>\n",
       "      <th>A</th>\n",
       "      <th>B</th>\n",
       "      <th>C</th>\n",
       "      <th>D</th>\n",
       "      <th>Row_sum</th>\n",
       "      <th>K</th>\n",
       "    </tr>\n",
       "  </thead>\n",
       "  <tbody>\n",
       "    <tr>\n",
       "      <th>0</th>\n",
       "      <td>0</td>\n",
       "      <td>1</td>\n",
       "      <td>3</td>\n",
       "      <td>4</td>\n",
       "      <td>8</td>\n",
       "      <td>3</td>\n",
       "    </tr>\n",
       "    <tr>\n",
       "      <th>1</th>\n",
       "      <td>5</td>\n",
       "      <td>2</td>\n",
       "      <td>3</td>\n",
       "      <td>2</td>\n",
       "      <td>12</td>\n",
       "      <td>6</td>\n",
       "    </tr>\n",
       "    <tr>\n",
       "      <th>2</th>\n",
       "      <td>15</td>\n",
       "      <td>3</td>\n",
       "      <td>3</td>\n",
       "      <td>9</td>\n",
       "      <td>30</td>\n",
       "      <td>9</td>\n",
       "    </tr>\n",
       "    <tr>\n",
       "      <th>3</th>\n",
       "      <td>20</td>\n",
       "      <td>4</td>\n",
       "      <td>3</td>\n",
       "      <td>1</td>\n",
       "      <td>28</td>\n",
       "      <td>12</td>\n",
       "    </tr>\n",
       "    <tr>\n",
       "      <th>4</th>\n",
       "      <td>25</td>\n",
       "      <td>5</td>\n",
       "      <td>3</td>\n",
       "      <td>20</td>\n",
       "      <td>53</td>\n",
       "      <td>15</td>\n",
       "    </tr>\n",
       "    <tr>\n",
       "      <th>5</th>\n",
       "      <td>30</td>\n",
       "      <td>6</td>\n",
       "      <td>3</td>\n",
       "      <td>3</td>\n",
       "      <td>42</td>\n",
       "      <td>18</td>\n",
       "    </tr>\n",
       "    <tr>\n",
       "      <th>6</th>\n",
       "      <td>35</td>\n",
       "      <td>7</td>\n",
       "      <td>3</td>\n",
       "      <td>15</td>\n",
       "      <td>60</td>\n",
       "      <td>21</td>\n",
       "    </tr>\n",
       "    <tr>\n",
       "      <th>7</th>\n",
       "      <td>40</td>\n",
       "      <td>8</td>\n",
       "      <td>3</td>\n",
       "      <td>17</td>\n",
       "      <td>68</td>\n",
       "      <td>24</td>\n",
       "    </tr>\n",
       "  </tbody>\n",
       "</table>\n",
       "</div>"
      ],
      "text/plain": [
       "    A  B  C   D  Row_sum   K\n",
       "0   0  1  3   4        8   3\n",
       "1   5  2  3   2       12   6\n",
       "2  15  3  3   9       30   9\n",
       "3  20  4  3   1       28  12\n",
       "4  25  5  3  20       53  15\n",
       "5  30  6  3   3       42  18\n",
       "6  35  7  3  15       60  21\n",
       "7  40  8  3  17       68  24"
      ]
     },
     "execution_count": 182,
     "metadata": {},
     "output_type": "execute_result"
    }
   ],
   "source": [
    "# pass 를 한줄 코드로 대체하라.\n",
    "\n",
    "df1['K'] = df1['B'] *3\n",
    "\n",
    "df1"
   ]
  },
  {
   "cell_type": "markdown",
   "metadata": {},
   "source": [
    "**문제 7**"
   ]
  },
  {
   "cell_type": "markdown",
   "metadata": {
    "id": "ImowaV1Fcmds"
   },
   "source": [
    "`df1`에 `R`열을 추가하여라. \n",
    "이때, `R`열의 각 항목은 균등분포에 따라 `[0, 1)` 구간에서 선택된 임의의 수로 구성된다.\n",
    "\n",
    "힌트: `numpy.random.rand()`"
   ]
  },
  {
   "cell_type": "code",
   "execution_count": 183,
   "metadata": {
    "colab": {
     "base_uri": "https://localhost:8080/",
     "height": 313
    },
    "executionInfo": {
     "elapsed": 956,
     "status": "ok",
     "timestamp": 1620617012598,
     "user": {
      "displayName": "­정성엽 / 학생 / 컴퓨터공학부",
      "photoUrl": "",
      "userId": "12165438926956780307"
     },
     "user_tz": -540
    },
    "id": "lNGCpaMbTNI1",
    "outputId": "f20dc37d-7c69-4e96-9070-8d728af4a7c1"
   },
   "outputs": [
    {
     "data": {
      "text/html": [
       "<div>\n",
       "<style scoped>\n",
       "    .dataframe tbody tr th:only-of-type {\n",
       "        vertical-align: middle;\n",
       "    }\n",
       "\n",
       "    .dataframe tbody tr th {\n",
       "        vertical-align: top;\n",
       "    }\n",
       "\n",
       "    .dataframe thead th {\n",
       "        text-align: right;\n",
       "    }\n",
       "</style>\n",
       "<table border=\"1\" class=\"dataframe\">\n",
       "  <thead>\n",
       "    <tr style=\"text-align: right;\">\n",
       "      <th></th>\n",
       "      <th>A</th>\n",
       "      <th>B</th>\n",
       "      <th>C</th>\n",
       "      <th>D</th>\n",
       "      <th>Row_sum</th>\n",
       "      <th>K</th>\n",
       "      <th>R</th>\n",
       "    </tr>\n",
       "  </thead>\n",
       "  <tbody>\n",
       "    <tr>\n",
       "      <th>0</th>\n",
       "      <td>0</td>\n",
       "      <td>1</td>\n",
       "      <td>3</td>\n",
       "      <td>4</td>\n",
       "      <td>8</td>\n",
       "      <td>3</td>\n",
       "      <td>0.192604</td>\n",
       "    </tr>\n",
       "    <tr>\n",
       "      <th>1</th>\n",
       "      <td>5</td>\n",
       "      <td>2</td>\n",
       "      <td>3</td>\n",
       "      <td>2</td>\n",
       "      <td>12</td>\n",
       "      <td>6</td>\n",
       "      <td>0.273690</td>\n",
       "    </tr>\n",
       "    <tr>\n",
       "      <th>2</th>\n",
       "      <td>15</td>\n",
       "      <td>3</td>\n",
       "      <td>3</td>\n",
       "      <td>9</td>\n",
       "      <td>30</td>\n",
       "      <td>9</td>\n",
       "      <td>0.274995</td>\n",
       "    </tr>\n",
       "    <tr>\n",
       "      <th>3</th>\n",
       "      <td>20</td>\n",
       "      <td>4</td>\n",
       "      <td>3</td>\n",
       "      <td>1</td>\n",
       "      <td>28</td>\n",
       "      <td>12</td>\n",
       "      <td>0.349101</td>\n",
       "    </tr>\n",
       "    <tr>\n",
       "      <th>4</th>\n",
       "      <td>25</td>\n",
       "      <td>5</td>\n",
       "      <td>3</td>\n",
       "      <td>20</td>\n",
       "      <td>53</td>\n",
       "      <td>15</td>\n",
       "      <td>0.514284</td>\n",
       "    </tr>\n",
       "    <tr>\n",
       "      <th>5</th>\n",
       "      <td>30</td>\n",
       "      <td>6</td>\n",
       "      <td>3</td>\n",
       "      <td>3</td>\n",
       "      <td>42</td>\n",
       "      <td>18</td>\n",
       "      <td>0.541102</td>\n",
       "    </tr>\n",
       "    <tr>\n",
       "      <th>6</th>\n",
       "      <td>35</td>\n",
       "      <td>7</td>\n",
       "      <td>3</td>\n",
       "      <td>15</td>\n",
       "      <td>60</td>\n",
       "      <td>21</td>\n",
       "      <td>0.017696</td>\n",
       "    </tr>\n",
       "    <tr>\n",
       "      <th>7</th>\n",
       "      <td>40</td>\n",
       "      <td>8</td>\n",
       "      <td>3</td>\n",
       "      <td>17</td>\n",
       "      <td>68</td>\n",
       "      <td>24</td>\n",
       "      <td>0.319031</td>\n",
       "    </tr>\n",
       "  </tbody>\n",
       "</table>\n",
       "</div>"
      ],
      "text/plain": [
       "    A  B  C   D  Row_sum   K         R\n",
       "0   0  1  3   4        8   3  0.192604\n",
       "1   5  2  3   2       12   6  0.273690\n",
       "2  15  3  3   9       30   9  0.274995\n",
       "3  20  4  3   1       28  12  0.349101\n",
       "4  25  5  3  20       53  15  0.514284\n",
       "5  30  6  3   3       42  18  0.541102\n",
       "6  35  7  3  15       60  21  0.017696\n",
       "7  40  8  3  17       68  24  0.319031"
      ]
     },
     "execution_count": 183,
     "metadata": {},
     "output_type": "execute_result"
    }
   ],
   "source": [
    "# pass를 한줄 코드로 대체하라.\n",
    "\n",
    "df1['R'] = np.random.rand(len(df1))\n",
    "\n",
    "df1"
   ]
  },
  {
   "cell_type": "markdown",
   "metadata": {},
   "source": [
    "**문제 8**"
   ]
  },
  {
   "cell_type": "markdown",
   "metadata": {
    "id": "eC5wU_dKfeyZ"
   },
   "source": [
    "`df1`에서 `C`열에 인덱스가 1, 3, 5인 자료의 값을 6으로 변경하여라. "
   ]
  },
  {
   "cell_type": "code",
   "execution_count": 184,
   "metadata": {
    "colab": {
     "base_uri": "https://localhost:8080/",
     "height": 313
    },
    "executionInfo": {
     "elapsed": 956,
     "status": "ok",
     "timestamp": 1620617012598,
     "user": {
      "displayName": "­정성엽 / 학생 / 컴퓨터공학부",
      "photoUrl": "",
      "userId": "12165438926956780307"
     },
     "user_tz": -540
    },
    "id": "lNGCpaMbTNI1",
    "outputId": "f20dc37d-7c69-4e96-9070-8d728af4a7c1"
   },
   "outputs": [
    {
     "data": {
      "text/html": [
       "<div>\n",
       "<style scoped>\n",
       "    .dataframe tbody tr th:only-of-type {\n",
       "        vertical-align: middle;\n",
       "    }\n",
       "\n",
       "    .dataframe tbody tr th {\n",
       "        vertical-align: top;\n",
       "    }\n",
       "\n",
       "    .dataframe thead th {\n",
       "        text-align: right;\n",
       "    }\n",
       "</style>\n",
       "<table border=\"1\" class=\"dataframe\">\n",
       "  <thead>\n",
       "    <tr style=\"text-align: right;\">\n",
       "      <th></th>\n",
       "      <th>A</th>\n",
       "      <th>B</th>\n",
       "      <th>C</th>\n",
       "      <th>D</th>\n",
       "      <th>Row_sum</th>\n",
       "      <th>K</th>\n",
       "      <th>R</th>\n",
       "    </tr>\n",
       "  </thead>\n",
       "  <tbody>\n",
       "    <tr>\n",
       "      <th>0</th>\n",
       "      <td>0</td>\n",
       "      <td>1</td>\n",
       "      <td>3</td>\n",
       "      <td>4</td>\n",
       "      <td>8</td>\n",
       "      <td>3</td>\n",
       "      <td>0.192604</td>\n",
       "    </tr>\n",
       "    <tr>\n",
       "      <th>1</th>\n",
       "      <td>5</td>\n",
       "      <td>2</td>\n",
       "      <td>6</td>\n",
       "      <td>2</td>\n",
       "      <td>12</td>\n",
       "      <td>6</td>\n",
       "      <td>0.273690</td>\n",
       "    </tr>\n",
       "    <tr>\n",
       "      <th>2</th>\n",
       "      <td>15</td>\n",
       "      <td>3</td>\n",
       "      <td>3</td>\n",
       "      <td>9</td>\n",
       "      <td>30</td>\n",
       "      <td>9</td>\n",
       "      <td>0.274995</td>\n",
       "    </tr>\n",
       "    <tr>\n",
       "      <th>3</th>\n",
       "      <td>20</td>\n",
       "      <td>4</td>\n",
       "      <td>6</td>\n",
       "      <td>1</td>\n",
       "      <td>28</td>\n",
       "      <td>12</td>\n",
       "      <td>0.349101</td>\n",
       "    </tr>\n",
       "    <tr>\n",
       "      <th>4</th>\n",
       "      <td>25</td>\n",
       "      <td>5</td>\n",
       "      <td>3</td>\n",
       "      <td>20</td>\n",
       "      <td>53</td>\n",
       "      <td>15</td>\n",
       "      <td>0.514284</td>\n",
       "    </tr>\n",
       "    <tr>\n",
       "      <th>5</th>\n",
       "      <td>30</td>\n",
       "      <td>6</td>\n",
       "      <td>6</td>\n",
       "      <td>3</td>\n",
       "      <td>42</td>\n",
       "      <td>18</td>\n",
       "      <td>0.541102</td>\n",
       "    </tr>\n",
       "    <tr>\n",
       "      <th>6</th>\n",
       "      <td>35</td>\n",
       "      <td>7</td>\n",
       "      <td>3</td>\n",
       "      <td>15</td>\n",
       "      <td>60</td>\n",
       "      <td>21</td>\n",
       "      <td>0.017696</td>\n",
       "    </tr>\n",
       "    <tr>\n",
       "      <th>7</th>\n",
       "      <td>40</td>\n",
       "      <td>8</td>\n",
       "      <td>3</td>\n",
       "      <td>17</td>\n",
       "      <td>68</td>\n",
       "      <td>24</td>\n",
       "      <td>0.319031</td>\n",
       "    </tr>\n",
       "  </tbody>\n",
       "</table>\n",
       "</div>"
      ],
      "text/plain": [
       "    A  B  C   D  Row_sum   K         R\n",
       "0   0  1  3   4        8   3  0.192604\n",
       "1   5  2  6   2       12   6  0.273690\n",
       "2  15  3  3   9       30   9  0.274995\n",
       "3  20  4  6   1       28  12  0.349101\n",
       "4  25  5  3  20       53  15  0.514284\n",
       "5  30  6  6   3       42  18  0.541102\n",
       "6  35  7  3  15       60  21  0.017696\n",
       "7  40  8  3  17       68  24  0.319031"
      ]
     },
     "execution_count": 184,
     "metadata": {},
     "output_type": "execute_result"
    }
   ],
   "source": [
    "# pass 를 한줄 코드로 대체하라.\n",
    "\n",
    "df1.loc[[1,3,5],'C'] = 6\n",
    "\n",
    "df1"
   ]
  },
  {
   "cell_type": "markdown",
   "metadata": {
    "id": "KBdpvaNEh4tc"
   },
   "source": [
    "**성적 데이터 분석**"
   ]
  },
  {
   "cell_type": "markdown",
   "metadata": {
    "id": "HMI1XX8TSSDB"
   },
   "source": [
    "학생 100명의 국어, 영어, 수학, 사회, 과학 점수가 들어 있는\n",
    "`score.txt` 파일을 다운로드 한다."
   ]
  },
  {
   "cell_type": "markdown",
   "metadata": {},
   "source": [
    "- 다운로드 경로 지정"
   ]
  },
  {
   "cell_type": "code",
   "execution_count": 185,
   "metadata": {},
   "outputs": [],
   "source": [
    "from pathlib import Path\n",
    "\n",
    "data_path = Path() / \"data\"\n",
    "\n",
    "data_path.mkdir(parents=True, exist_ok=True)"
   ]
  },
  {
   "cell_type": "markdown",
   "metadata": {},
   "source": [
    "- 다운로드 함수 선언"
   ]
  },
  {
   "cell_type": "code",
   "execution_count": 186,
   "metadata": {},
   "outputs": [],
   "source": [
    "from urllib.request import urlretrieve\n",
    "\n",
    "# 파일 서버 기본 주소\n",
    "base_url = \"https://raw.githubusercontent.com/codingalzi/datapy/master/jupyter-book/data/\"\n",
    "\n",
    "def myWget(filename):\n",
    "    # 다운로드 대상 파일 경로\n",
    "    file_url = base_url + filename\n",
    "    \n",
    "    # 저장 경로와 파일명\n",
    "    target_path = data_path / filename\n",
    "    \n",
    "    return urlretrieve(file_url, target_path)"
   ]
  },
  {
   "cell_type": "markdown",
   "metadata": {},
   "source": [
    "* `score.txt` 파일 다운로드"
   ]
  },
  {
   "cell_type": "code",
   "execution_count": 187,
   "metadata": {},
   "outputs": [
    {
     "data": {
      "text/plain": [
       "(WindowsPath('data/score.txt'), <http.client.HTTPMessage at 0x26f1d89d040>)"
      ]
     },
     "execution_count": 187,
     "metadata": {},
     "output_type": "execute_result"
    }
   ],
   "source": [
    "myWget(\"score.txt\")"
   ]
  },
  {
   "cell_type": "markdown",
   "metadata": {
    "id": "HMI1XX8TSSDB"
   },
   "source": [
    "파일의 내용을 데이터프레임으로 다음과 같이 불러온다."
   ]
  },
  {
   "cell_type": "code",
   "execution_count": 188,
   "metadata": {},
   "outputs": [],
   "source": [
    "df_score = pd.read_csv(data_path / 'score.txt', header=0)"
   ]
  },
  {
   "cell_type": "code",
   "execution_count": 189,
   "metadata": {},
   "outputs": [
    {
     "data": {
      "text/html": [
       "<div>\n",
       "<style scoped>\n",
       "    .dataframe tbody tr th:only-of-type {\n",
       "        vertical-align: middle;\n",
       "    }\n",
       "\n",
       "    .dataframe tbody tr th {\n",
       "        vertical-align: top;\n",
       "    }\n",
       "\n",
       "    .dataframe thead th {\n",
       "        text-align: right;\n",
       "    }\n",
       "</style>\n",
       "<table border=\"1\" class=\"dataframe\">\n",
       "  <thead>\n",
       "    <tr style=\"text-align: right;\">\n",
       "      <th></th>\n",
       "      <th># 국어</th>\n",
       "      <th>영어</th>\n",
       "      <th>수학</th>\n",
       "      <th>사회</th>\n",
       "      <th>과학</th>\n",
       "    </tr>\n",
       "  </thead>\n",
       "  <tbody>\n",
       "    <tr>\n",
       "      <th>0</th>\n",
       "      <td>15</td>\n",
       "      <td>16</td>\n",
       "      <td>21</td>\n",
       "      <td>0</td>\n",
       "      <td>14</td>\n",
       "    </tr>\n",
       "    <tr>\n",
       "      <th>1</th>\n",
       "      <td>96</td>\n",
       "      <td>91</td>\n",
       "      <td>14</td>\n",
       "      <td>11</td>\n",
       "      <td>75</td>\n",
       "    </tr>\n",
       "    <tr>\n",
       "      <th>2</th>\n",
       "      <td>49</td>\n",
       "      <td>63</td>\n",
       "      <td>15</td>\n",
       "      <td>18</td>\n",
       "      <td>61</td>\n",
       "    </tr>\n",
       "    <tr>\n",
       "      <th>3</th>\n",
       "      <td>54</td>\n",
       "      <td>4</td>\n",
       "      <td>20</td>\n",
       "      <td>21</td>\n",
       "      <td>1</td>\n",
       "    </tr>\n",
       "    <tr>\n",
       "      <th>4</th>\n",
       "      <td>46</td>\n",
       "      <td>8</td>\n",
       "      <td>7</td>\n",
       "      <td>23</td>\n",
       "      <td>9</td>\n",
       "    </tr>\n",
       "    <tr>\n",
       "      <th>...</th>\n",
       "      <td>...</td>\n",
       "      <td>...</td>\n",
       "      <td>...</td>\n",
       "      <td>...</td>\n",
       "      <td>...</td>\n",
       "    </tr>\n",
       "    <tr>\n",
       "      <th>95</th>\n",
       "      <td>69</td>\n",
       "      <td>61</td>\n",
       "      <td>11</td>\n",
       "      <td>28</td>\n",
       "      <td>97</td>\n",
       "    </tr>\n",
       "    <tr>\n",
       "      <th>96</th>\n",
       "      <td>41</td>\n",
       "      <td>97</td>\n",
       "      <td>16</td>\n",
       "      <td>13</td>\n",
       "      <td>8</td>\n",
       "    </tr>\n",
       "    <tr>\n",
       "      <th>97</th>\n",
       "      <td>0</td>\n",
       "      <td>84</td>\n",
       "      <td>18</td>\n",
       "      <td>9</td>\n",
       "      <td>15</td>\n",
       "    </tr>\n",
       "    <tr>\n",
       "      <th>98</th>\n",
       "      <td>19</td>\n",
       "      <td>11</td>\n",
       "      <td>15</td>\n",
       "      <td>2</td>\n",
       "      <td>90</td>\n",
       "    </tr>\n",
       "    <tr>\n",
       "      <th>99</th>\n",
       "      <td>0</td>\n",
       "      <td>7</td>\n",
       "      <td>33</td>\n",
       "      <td>7</td>\n",
       "      <td>58</td>\n",
       "    </tr>\n",
       "  </tbody>\n",
       "</table>\n",
       "<p>100 rows × 5 columns</p>\n",
       "</div>"
      ],
      "text/plain": [
       "    # 국어   영어   수학   사회   과학\n",
       "0     15   16   21    0   14\n",
       "1     96   91   14   11   75\n",
       "2     49   63   15   18   61\n",
       "3     54    4   20   21    1\n",
       "4     46    8    7   23    9\n",
       "..   ...  ...  ...  ...  ...\n",
       "95    69   61   11   28   97\n",
       "96    41   97   16   13    8\n",
       "97     0   84   18    9   15\n",
       "98    19   11   15    2   90\n",
       "99     0    7   33    7   58\n",
       "\n",
       "[100 rows x 5 columns]"
      ]
     },
     "execution_count": 189,
     "metadata": {},
     "output_type": "execute_result"
    }
   ],
   "source": [
    "df_score"
   ]
  },
  {
   "cell_type": "markdown",
   "metadata": {},
   "source": [
    "**문제 9**"
   ]
  },
  {
   "cell_type": "markdown",
   "metadata": {},
   "source": [
    "첫째 열의 라벨인 `# 국어` 를 `국어`로 수정하라."
   ]
  },
  {
   "cell_type": "code",
   "execution_count": 190,
   "metadata": {},
   "outputs": [
    {
     "data": {
      "text/plain": [
       "Index([' 국어', ' 영어', ' 수학', ' 사회', ' 과학'], dtype='object')"
      ]
     },
     "execution_count": 190,
     "metadata": {},
     "output_type": "execute_result"
    }
   ],
   "source": [
    "# pass 를 한줄 코드로 대체하라.\n",
    "\n",
    "df_score = df_score.columns.str.strip('#')\n",
    "\n",
    "df_score"
   ]
  },
  {
   "cell_type": "markdown",
   "metadata": {},
   "source": [
    "**문제 10**"
   ]
  },
  {
   "cell_type": "markdown",
   "metadata": {
    "id": "jiFCWbMbU12N"
   },
   "source": [
    "`df_score`의 처음부터 5개의 행을 확인하라.\n",
    "\n",
    "힌트: `head()` 메서드"
   ]
  },
  {
   "cell_type": "code",
   "execution_count": 191,
   "metadata": {
    "colab": {
     "base_uri": "https://localhost:8080/",
     "height": 313
    },
    "executionInfo": {
     "elapsed": 956,
     "status": "ok",
     "timestamp": 1620617012598,
     "user": {
      "displayName": "­정성엽 / 학생 / 컴퓨터공학부",
      "photoUrl": "",
      "userId": "12165438926956780307"
     },
     "user_tz": -540
    },
    "id": "lNGCpaMbTNI1",
    "outputId": "f20dc37d-7c69-4e96-9070-8d728af4a7c1"
   },
   "outputs": [],
   "source": [
    "# pass 를 한줄 코드로 대체하라.\n",
    "\n",
    "df_score = pd.DataFrame([1,2,3,4,5])"
   ]
  },
  {
   "cell_type": "markdown",
   "metadata": {},
   "source": [
    "**문제 11**"
   ]
  },
  {
   "cell_type": "markdown",
   "metadata": {
    "id": "BGwZCQzVVBTF"
   },
   "source": [
    "`df_score`의 마지막 10개의 행을 확인하라. "
   ]
  },
  {
   "cell_type": "code",
   "execution_count": 192,
   "metadata": {
    "colab": {
     "base_uri": "https://localhost:8080/",
     "height": 313
    },
    "executionInfo": {
     "elapsed": 956,
     "status": "ok",
     "timestamp": 1620617012598,
     "user": {
      "displayName": "­정성엽 / 학생 / 컴퓨터공학부",
      "photoUrl": "",
      "userId": "12165438926956780307"
     },
     "user_tz": -540
    },
    "id": "lNGCpaMbTNI1",
    "outputId": "f20dc37d-7c69-4e96-9070-8d728af4a7c1"
   },
   "outputs": [
    {
     "data": {
      "text/html": [
       "<div>\n",
       "<style scoped>\n",
       "    .dataframe tbody tr th:only-of-type {\n",
       "        vertical-align: middle;\n",
       "    }\n",
       "\n",
       "    .dataframe tbody tr th {\n",
       "        vertical-align: top;\n",
       "    }\n",
       "\n",
       "    .dataframe thead th {\n",
       "        text-align: right;\n",
       "    }\n",
       "</style>\n",
       "<table border=\"1\" class=\"dataframe\">\n",
       "  <thead>\n",
       "    <tr style=\"text-align: right;\">\n",
       "      <th></th>\n",
       "      <th>0</th>\n",
       "    </tr>\n",
       "  </thead>\n",
       "  <tbody>\n",
       "    <tr>\n",
       "      <th>0</th>\n",
       "      <td>1</td>\n",
       "    </tr>\n",
       "    <tr>\n",
       "      <th>1</th>\n",
       "      <td>2</td>\n",
       "    </tr>\n",
       "    <tr>\n",
       "      <th>2</th>\n",
       "      <td>3</td>\n",
       "    </tr>\n",
       "    <tr>\n",
       "      <th>3</th>\n",
       "      <td>4</td>\n",
       "    </tr>\n",
       "    <tr>\n",
       "      <th>4</th>\n",
       "      <td>5</td>\n",
       "    </tr>\n",
       "  </tbody>\n",
       "</table>\n",
       "</div>"
      ],
      "text/plain": [
       "   0\n",
       "0  1\n",
       "1  2\n",
       "2  3\n",
       "3  4\n",
       "4  5"
      ]
     },
     "execution_count": 192,
     "metadata": {},
     "output_type": "execute_result"
    }
   ],
   "source": [
    "# pass 를 한줄 코드로 대체하라.\n",
    "\n",
    "df_score.tail(10)"
   ]
  },
  {
   "cell_type": "markdown",
   "metadata": {},
   "source": [
    "**문제 12**"
   ]
  },
  {
   "cell_type": "markdown",
   "metadata": {
    "id": "zYdW1oUQVmu5"
   },
   "source": [
    "국어 점수가 90점 이상인 학생들의 데이터만 추출하라."
   ]
  },
  {
   "cell_type": "code",
   "execution_count": 193,
   "metadata": {
    "colab": {
     "base_uri": "https://localhost:8080/",
     "height": 313
    },
    "executionInfo": {
     "elapsed": 956,
     "status": "ok",
     "timestamp": 1620617012598,
     "user": {
      "displayName": "­정성엽 / 학생 / 컴퓨터공학부",
      "photoUrl": "",
      "userId": "12165438926956780307"
     },
     "user_tz": -540
    },
    "id": "lNGCpaMbTNI1",
    "outputId": "f20dc37d-7c69-4e96-9070-8d728af4a7c1"
   },
   "outputs": [
    {
     "ename": "KeyError",
     "evalue": "'국어'",
     "output_type": "error",
     "traceback": [
      "\u001b[1;31m---------------------------------------------------------------------------\u001b[0m",
      "\u001b[1;31mKeyError\u001b[0m                                  Traceback (most recent call last)",
      "Cell \u001b[1;32mIn[193], line 3\u001b[0m\n\u001b[0;32m      1\u001b[0m \u001b[38;5;66;03m# pass 를 한줄 코드로 대체하라.\u001b[39;00m\n\u001b[1;32m----> 3\u001b[0m df_score[df_score[\u001b[38;5;124m'\u001b[39m\u001b[38;5;124m국어\u001b[39m\u001b[38;5;124m'\u001b[39m] \u001b[38;5;241m>\u001b[39m\u001b[38;5;241m=\u001b[39m \u001b[38;5;241m90\u001b[39m]\n",
      "File \u001b[1;32mc:\\Users\\302-15\\anaconda3\\Lib\\site-packages\\pandas\\core\\frame.py:4102\u001b[0m, in \u001b[0;36mDataFrame.__getitem__\u001b[1;34m(self, key)\u001b[0m\n\u001b[0;32m   4100\u001b[0m \u001b[38;5;28;01mif\u001b[39;00m \u001b[38;5;28mself\u001b[39m\u001b[38;5;241m.\u001b[39mcolumns\u001b[38;5;241m.\u001b[39mnlevels \u001b[38;5;241m>\u001b[39m \u001b[38;5;241m1\u001b[39m:\n\u001b[0;32m   4101\u001b[0m     \u001b[38;5;28;01mreturn\u001b[39;00m \u001b[38;5;28mself\u001b[39m\u001b[38;5;241m.\u001b[39m_getitem_multilevel(key)\n\u001b[1;32m-> 4102\u001b[0m indexer \u001b[38;5;241m=\u001b[39m \u001b[38;5;28mself\u001b[39m\u001b[38;5;241m.\u001b[39mcolumns\u001b[38;5;241m.\u001b[39mget_loc(key)\n\u001b[0;32m   4103\u001b[0m \u001b[38;5;28;01mif\u001b[39;00m is_integer(indexer):\n\u001b[0;32m   4104\u001b[0m     indexer \u001b[38;5;241m=\u001b[39m [indexer]\n",
      "File \u001b[1;32mc:\\Users\\302-15\\anaconda3\\Lib\\site-packages\\pandas\\core\\indexes\\range.py:417\u001b[0m, in \u001b[0;36mRangeIndex.get_loc\u001b[1;34m(self, key)\u001b[0m\n\u001b[0;32m    415\u001b[0m         \u001b[38;5;28;01mraise\u001b[39;00m \u001b[38;5;167;01mKeyError\u001b[39;00m(key) \u001b[38;5;28;01mfrom\u001b[39;00m \u001b[38;5;21;01merr\u001b[39;00m\n\u001b[0;32m    416\u001b[0m \u001b[38;5;28;01mif\u001b[39;00m \u001b[38;5;28misinstance\u001b[39m(key, Hashable):\n\u001b[1;32m--> 417\u001b[0m     \u001b[38;5;28;01mraise\u001b[39;00m \u001b[38;5;167;01mKeyError\u001b[39;00m(key)\n\u001b[0;32m    418\u001b[0m \u001b[38;5;28mself\u001b[39m\u001b[38;5;241m.\u001b[39m_check_indexing_error(key)\n\u001b[0;32m    419\u001b[0m \u001b[38;5;28;01mraise\u001b[39;00m \u001b[38;5;167;01mKeyError\u001b[39;00m(key)\n",
      "\u001b[1;31mKeyError\u001b[0m: '국어'"
     ]
    }
   ],
   "source": [
    "# pass 를 한줄 코드로 대체하라.\n",
    "\n",
    "df_score[df_score['국어'] >= 90]"
   ]
  },
  {
   "cell_type": "markdown",
   "metadata": {},
   "source": [
    "**문제 13**"
   ]
  },
  {
   "cell_type": "markdown",
   "metadata": {
    "id": "Yz-xgw89TESs"
   },
   "source": [
    "각 과목에서 10점 이하의 값들은 `np.nan`으로 변경하여라."
   ]
  },
  {
   "cell_type": "code",
   "execution_count": null,
   "metadata": {
    "colab": {
     "base_uri": "https://localhost:8080/",
     "height": 313
    },
    "executionInfo": {
     "elapsed": 956,
     "status": "ok",
     "timestamp": 1620617012598,
     "user": {
      "displayName": "­정성엽 / 학생 / 컴퓨터공학부",
      "photoUrl": "",
      "userId": "12165438926956780307"
     },
     "user_tz": -540
    },
    "id": "lNGCpaMbTNI1",
    "outputId": "f20dc37d-7c69-4e96-9070-8d728af4a7c1"
   },
   "outputs": [],
   "source": [
    "# pass 를 한줄 코드로 대체하라.\n",
    "\n",
    "df_score[df_score <= 10] = np.nan\n",
    "df_score"
   ]
  },
  {
   "cell_type": "markdown",
   "metadata": {},
   "source": [
    "**문제 14**"
   ]
  },
  {
   "cell_type": "markdown",
   "metadata": {
    "id": "Vz1SXKNnTeyr"
   },
   "source": [
    "각 열에 있는 결측치의 수를 확인하라."
   ]
  },
  {
   "cell_type": "code",
   "execution_count": 195,
   "metadata": {
    "colab": {
     "base_uri": "https://localhost:8080/",
     "height": 313
    },
    "executionInfo": {
     "elapsed": 956,
     "status": "ok",
     "timestamp": 1620617012598,
     "user": {
      "displayName": "­정성엽 / 학생 / 컴퓨터공학부",
      "photoUrl": "",
      "userId": "12165438926956780307"
     },
     "user_tz": -540
    },
    "id": "lNGCpaMbTNI1",
    "outputId": "f20dc37d-7c69-4e96-9070-8d728af4a7c1"
   },
   "outputs": [
    {
     "data": {
      "text/plain": [
       "0    0\n",
       "dtype: int64"
      ]
     },
     "execution_count": 195,
     "metadata": {},
     "output_type": "execute_result"
    }
   ],
   "source": [
    "# pass 를 한줄 코드로 대체하라.\n",
    "\n",
    "df_score.isna().sum()"
   ]
  },
  {
   "cell_type": "markdown",
   "metadata": {},
   "source": [
    "**문제 15**"
   ]
  },
  {
   "cell_type": "markdown",
   "metadata": {
    "id": "lMNIWjUNTsC1"
   },
   "source": [
    "결측치의 개수가 20%인 이하인 열들만 담은 데이터프레임`df_score_20`을 만들어라."
   ]
  },
  {
   "cell_type": "code",
   "execution_count": null,
   "metadata": {},
   "outputs": [],
   "source": [
    "# pass와 None을 각각 적절한 코드와 표현식으로 대체하라.\n",
    "\n",
    "pass\n",
    "df_score_20 =\n",
    "\n",
    "df_score_20"
   ]
  },
  {
   "cell_type": "markdown",
   "metadata": {},
   "source": [
    "**문제 16**"
   ]
  },
  {
   "cell_type": "markdown",
   "metadata": {},
   "source": [
    "아래 데이터프레임을 생성하기 위해 `pd.date_range()` 함수는 시간으로 구성된 인덱스 자료형을 생성한다.\n",
    "함수 호출에 사용된 키워드 인자의 의미는 다음과 같다.\n",
    "\n",
    "- `start=\"20130101`: 2013년 1월 1일부터 시작\n",
    "- `periods=6`: 첫째 인자로 지정된 시간부터 6 개의 시간 데이터 샘플 생성\n",
    "- `freq=\"D\"`: 시간 데이터 샘플을 일(day) 단위로 생성"
   ]
  },
  {
   "cell_type": "code",
   "execution_count": null,
   "metadata": {},
   "outputs": [],
   "source": [
    "dates = pd.date_range(start=\"20130101\", periods=6, freq=\"D\")\n",
    "dates"
   ]
  },
  {
   "cell_type": "code",
   "execution_count": null,
   "metadata": {},
   "outputs": [],
   "source": [
    "np.random.seed(0)\n",
    "\n",
    "df = pd.DataFrame(np.random.randn(6, 4), index=dates, columns=list(\"ABCD\"))\n",
    "df"
   ]
  },
  {
   "cell_type": "markdown",
   "metadata": {
    "id": "aLIzfkguR6hY"
   },
   "source": [
    "(1) 열 라벨을 기준으로 오름차순으로 정렬하라."
   ]
  },
  {
   "cell_type": "code",
   "execution_count": null,
   "metadata": {
    "colab": {
     "base_uri": "https://localhost:8080/",
     "height": 237
    },
    "id": "yuWbmU8fR8hp",
    "outputId": "8a76171a-1b62-4407-9da1-a38addd75007"
   },
   "outputs": [],
   "source": [
    "# pass와 None을 각각 적절한 코드와 표현식으로 대체하라.\n",
    "\n",
    "None"
   ]
  },
  {
   "cell_type": "markdown",
   "metadata": {
    "id": "aLIzfkguR6hY"
   },
   "source": [
    "(2) 열 라벨을 기준으로 내림차순으로 정렬하라."
   ]
  },
  {
   "cell_type": "code",
   "execution_count": null,
   "metadata": {
    "colab": {
     "base_uri": "https://localhost:8080/",
     "height": 237
    },
    "id": "yuWbmU8fR8hp",
    "outputId": "8a76171a-1b62-4407-9da1-a38addd75007"
   },
   "outputs": [],
   "source": [
    "# pass와 None을 각각 적절한 코드와 표현식으로 대체하라.\n",
    "\n",
    "None"
   ]
  },
  {
   "cell_type": "markdown",
   "metadata": {
    "id": "aLIzfkguR6hY"
   },
   "source": [
    "(2) `'B'` 라벨 열의 항목을 기준으로 오름차순으로 정렬하라."
   ]
  },
  {
   "cell_type": "code",
   "execution_count": null,
   "metadata": {
    "colab": {
     "base_uri": "https://localhost:8080/",
     "height": 237
    },
    "id": "yuWbmU8fR8hp",
    "outputId": "8a76171a-1b62-4407-9da1-a38addd75007"
   },
   "outputs": [],
   "source": [
    "# pass와 None을 각각 적절한 코드와 표현식으로 대체하라.\n",
    "\n",
    "None"
   ]
  }
 ],
 "metadata": {
  "colab": {
   "name": "practice-dataframe_core.ipynb",
   "provenance": []
  },
  "kernelspec": {
   "display_name": "base",
   "language": "python",
   "name": "python3"
  },
  "language_info": {
   "codemirror_mode": {
    "name": "ipython",
    "version": 3
   },
   "file_extension": ".py",
   "mimetype": "text/x-python",
   "name": "python",
   "nbconvert_exporter": "python",
   "pygments_lexer": "ipython3",
   "version": "3.12.7"
  }
 },
 "nbformat": 4,
 "nbformat_minor": 1
}
